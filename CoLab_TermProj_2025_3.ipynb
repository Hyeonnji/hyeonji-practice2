{
 "cells": [
  {
   "cell_type": "code",
   "execution_count": 2,
   "metadata": {},
   "outputs": [
    {
     "name": "stdout",
     "output_type": "stream",
     "text": [
      "✅ Added /home/hyeonji/miniconda/envs/bioinfo/bin to PATH\n",
      "/home/hyeonji/miniconda/envs/bioinfo/bin/samtools\n",
      "samtools 1.21\n"
     ]
    }
   ],
   "source": [
    "# --------- [셀 0] PATH에 bioinfo/bin 강제 추가 ----------\n",
    "import os, sys, subprocess, textwrap\n",
    "env_bin = os.path.dirname(sys.executable)          # .../envs/bioinfo/bin\n",
    "if env_bin not in os.environ[\"PATH\"].split(\":\"):\n",
    "    os.environ[\"PATH\"] = env_bin + \":\" + os.environ[\"PATH\"]\n",
    "    print(\"✅ Added\", env_bin, \"to PATH\")\n",
    "\n",
    "# 확인\n",
    "!which samtools\n",
    "!samtools --version | head -1\n",
    "# ---------------------------------------------------------"
   ]
  },
  {
   "cell_type": "code",
   "execution_count": 10,
   "metadata": {},
   "outputs": [
    {
     "name": "stdout",
     "output_type": "stream",
     "text": [
      "env: PATH=/home/hyeonji/miniconda/envs/bioinfo/bin:/usr/bin:/bin\n"
     ]
    }
   ],
   "source": [
    "%env PATH=/home/hyeonji/miniconda/envs/bioinfo/bin:/usr/bin:/bin"
   ]
  },
  {
   "cell_type": "code",
   "execution_count": 6,
   "metadata": {},
   "outputs": [],
   "source": [
    "SAMTOOLS = \"/home/hyeonji/miniconda/envs/bioinfo/bin/samtools\""
   ]
  },
  {
   "cell_type": "markdown",
   "metadata": {
    "id": "qSmNiRknPfSy"
   },
   "source": [
    "# 생물정보학 및 실습 1 - Term Project용 Mission 3 환경 셋업\n",
    "\n",
    "```\n",
    "생물정보학 및 실습 1\n",
    "서울대학교 생물정보학전공/생명과학부 2025년 1학기\n",
    "\n",
    "이 노트북은 Creative Commons BY-SA 조건으로 재사용 가능합니다.\n",
    "장혜식 <hyeshik@snu.ac.kr>, 서울대학교 생명과학부\n",
    "```\n",
    "\n",
    "이 노트북은 Google Colab을 이용해서 Term Project를 할 수 있도록 환경을 준비해 줍니다. 터미널 사용이 원활하지 않은 상태이고, 데이터를 오랫동안 보관하기 어렵기 때문에 되도록 개인용 컴퓨터에서 [Anaconda](https://www.anaconda.com/)나 [JupyterLab](https://jupyterlab.readthedocs.io/en/stable/) 등을 설치하고 사용하시는 것이 편하지만, 개인용 컴퓨터 사양이 부족한 경우에는 Google CoLab을 사용할 수도 있습니다. 개인용 컴퓨터를 쓸 때는 Windows에서는 [WSL2](https://docs.microsoft.com/en-us/windows/wsl/install-win10)를 쓰시면 리눅스 커맨드라인 환경을 쓸 수 있습니다. Google Colab은 창을 닫은 후 90분 후, 또는 창을 처음 열고 12시간 후에 환경을 닫아버리기 때문에 매번 실습할 때마다 새로 셋업이 필요합니다. `Runtime->Run All`을 실행해서 전체를 한 번 실행하시면 준비됩니다. 모든 것이 잘 안 되고 뭔가 꼬인 느낌이 강하게 들 때는 `Runtime->Factory reset runtime`을 누르고 새로 시작하시면 될 수도 있습니다.\n"
   ]
  },
  {
   "cell_type": "markdown",
   "metadata": {
    "id": "ojAx9SdvPfSz"
   },
   "source": [
    "## Google Drive 마운트\n",
    "\n",
    "데이터 파일들을 불러오고 저장하기 위해서 Google Drive를 연결합니다. **이번엔 스크립트 파일을 편집해야 하기 때문에 Google Drive 마운트를 하지 않으면 vim등 콘솔에서 쓸 수 있는 에디터를 쓰셔야 합니다.** 화면에 나오는 주소를 눌러서 인증하고 인증 코드를 그 아래에 입력하세요. 그러면 `/contents/drive/MyDrive`에서 자신의 Drive 최상단 폴더가 보입니다. Google CoLab에서 접속하지 않고, 본인 컴퓨터 또는 연구실 워크스테이션 등 다른 컴퓨터를 쓰시는 경우에는 저장공간이 충분하므로 이 부분은 생략하고 지나갑니다."
   ]
  },
  {
   "cell_type": "code",
   "execution_count": null,
   "metadata": {
    "id": "SbkVVS-CPfSz"
   },
   "outputs": [],
   "source": [
    "from google.colab import drive\n",
    "drive.mount('/content/drive')"
   ]
  },
  {
   "cell_type": "markdown",
   "metadata": {
    "id": "BjtCUaGSPfSz"
   },
   "source": [
    "## 실습용 Bioconda 환경 설치하기\n",
    "Google CoLab에서 접속하지 않고, 본인 컴퓨터 또는 연구실 워크스테이션 등 다른 컴퓨터를 쓰시는 경우에는 따로 실습용 [Bioconda](https://bioconda.github.io/) 환경을 구축해서 이 노트북을 그 환경 안에서 띄우시면 됩니다.\n",
    "\n",
    "CoLab을 쓰시는 분들은 다음에 따라서 실습용 프로그램들을 쉽게 설치할 수 있도록 [Bioconda](https://bioconda.github.io/) 환경을 만듭니다. 실행하고 진행상황을 관찰하다가 에러로 보이는 것이 있으면 잘 읽어보고 해결합니다.\n",
    "\n",
    "파이썬 모듈들은 Colab쪽의 파이썬 인터프리터를 바꿀 수 없기 때문에 Conda에 설치하더라도 사용하기 어렵습니다. 파이썬 모듈은 `pip` 명령어로 설치하시면 Colab에서 불러와서 사용할 수 있습니다.\n",
    "\n",
    "환경 초기화에 관련된 스크립트는 [GitHub 프로젝트](https://github.com/hyeshik/colab-biolab)에 있습니다."
   ]
  },
  {
   "cell_type": "code",
   "execution_count": null,
   "metadata": {
    "id": "g-vfGi3ePfSz"
   },
   "outputs": [],
   "source": [
    "!git clone https://github.com/hyeshik/colab-biolab.git\n",
    "!cd colab-biolab && bash tools/setup.sh\n",
    "exec(open('colab-biolab/tools/activate_conda.py').read())"
   ]
  },
  {
   "cell_type": "markdown",
   "metadata": {
    "id": "8A1Qq4AcPfS0"
   },
   "source": [
    "설정이 끝났으면, 이제 콘솔을 열어서 터미널로 접속할 수 있는 통로를 열어줍니다."
   ]
  },
  {
   "cell_type": "markdown",
   "metadata": {
    "id": "etOQJdMTPfS0"
   },
   "source": [
    "## 시퀀싱 데이터 다운로드\n",
    "***첫 실습 시간에 데이터 복사를 마쳤으면 이 부분은 생략하고 지나갑니다.***\n",
    "\n",
    "이제 실습 수업에서 필요한 시퀀싱 데이터를 다운로드 받아서 설치합시다. 드라이브 공간만 충분하면 데이터는 계속 저장돼 있기 때문에 학기 전체를 통해서 딱 한 번만 하시면 됩니다. Colab에서는 작업용 데이터를 Google Drive 폴더 아래의 `binfo-datapack1`에 저장합니다. 실습용 데이터는 `/content/drive/MyDrive/binfo1-datapack1`에 풀리게 됩니다.\n",
    "\n",
    "### (Option 1) Google CoLab에서 접속한 경우\n",
    "1. [Google Drive 공유폴더](https://drive.google.com/drive/folders/1QBJednh-C7A17PFOlpZHBKyDmBvd6klh?usp=sharing)에 접속합니다.\n",
    "1. 중간 제목줄의 \"binfo1-datapack1 ▾\"에서 ▾을 누릅니다.\n",
    "1. Add shortcut to Drive를 누릅니다.\n",
    "1. My Drive를 선택해서 ADD SHORTCUT 버튼을 누릅니다.\n",
    "1. 다음 cell을 실행해서 링크가 제대로 들어왔는지 확인합니다. (바로 확인되지 않으면 3–5분 정도 기다렸다가 하면 됩니다.)\n",
    "1. 제대로 확인되면 다음으로 넘어갑니다.\n"
   ]
  },
  {
   "cell_type": "code",
   "execution_count": null,
   "metadata": {
    "id": "D24wKYriG8tI"
   },
   "outputs": [],
   "source": [
    "!ls -al /content/drive/MyDrive/binfo1-datapack1/"
   ]
  },
  {
   "cell_type": "markdown",
   "metadata": {
    "id": "OZ0KkKrmG-M4"
   },
   "source": [
    "### (Option 2) CoLab외의 다른 환경에서 접속한 경우\n",
    "본인 컴퓨터나 연구실 워크스테이션 등에서 작업하는 경우에는 다음 명령어로 다운로드 받으시면 됩니다. 첫 번째에는 wget이 접속오류를 내는 경우가 많으니, 접속에러가 발생하면 다시 한 번 실행해 보세요. `/content/drive/Mydrive` 부분은 원하는 저장 경로로 바꿔서 지정하시면 됩니다."
   ]
  },
  {
   "cell_type": "code",
   "execution_count": null,
   "metadata": {
    "id": "rgT10jUOPfS0"
   },
   "outputs": [],
   "source": [
    "!wget -O - --no-check-certificate https://hyeshik.qbio.io/binfo/binfo1-datapack1.tar | tar -C /content/drive/MyDrive -xf -"
   ]
  },
  {
   "cell_type": "markdown",
   "metadata": {
    "id": "BnS18ErRPfS2"
   },
   "source": [
    "### 파일 체크섬 확인\n",
    "***첫 실습 시간에 데이터 복사를 마쳤으면 이 부분은 생략하고 지나갑니다.***\n",
    "\n",
    "받은 데이터의 MD5 체크섬을 확인합니다. 한참 걸립니다. 각 파일들의 원래 체크섬은 다음과 같습니다. 한 번 비교해 보세요.\n",
    "\n",
    "```\n",
    "140aaf30bcb9276cc716f8699f04ddd6  CLIP-35L33G.bam\n",
    "f1b3336ed7e2f97d562dcc71641251bd  CLIP-35L33G.bam.bai\n",
    "328883a73d507eafbf5b60bd6b906201  RNA-control.bam\n",
    "02073818e2f398a73c3b76e5169de1ca  RNA-control.bam.bai\n",
    "b09550d09d6c2a4ce27f0226f426fdb1  RNA-siLin28a.bam\n",
    "fef112c727244060ea62d3f2564a07f6  RNA-siLin28a.bam.bai\n",
    "28bbd0c47d725669340c784f1b772c01  RNA-siLuc.bam\n",
    "43590fdc4d81905c0432e0d1cb8cfd5b  RNA-siLuc.bam.bai\n",
    "5c08a9297307bc83259e658c4474f0cc  RPF-siLin28a.bam\n",
    "a1bb3e29be412dfd7fd8d16b1b1acc4c  RPF-siLin28a.bam.bai\n",
    "f2eebf50943024d0116c9cd3e744c707  RPF-siLuc.bam\n",
    "dc24f69e8f571fc8be30f28ce5b84fcd  RPF-siLuc.bam.bai\n",
    "```"
   ]
  },
  {
   "cell_type": "code",
   "execution_count": null,
   "metadata": {
    "id": "6wOX9pzSPfS2"
   },
   "outputs": [],
   "source": [
    "!md5sum drive/MyDrive/binfo1-datapack1/*"
   ]
  },
  {
   "cell_type": "code",
   "execution_count": null,
   "metadata": {
    "id": "-TbxufDhch1f"
   },
   "outputs": [],
   "source": [
    "!ls -al drive/MyDrive/binfo*"
   ]
  },
  {
   "cell_type": "markdown",
   "metadata": {
    "id": "TYffnLRpcmSn"
   },
   "source": [
    "# 파일 복사하기\n",
    "***첫 실습 시간에 데이터 복사를 마쳤으면 이 부분은 생략하고 지나갑니다.***\n",
    "\n",
    "공유한 폴더를 나의 작업 폴더로 복사합니다."
   ]
  },
  {
   "cell_type": "code",
   "execution_count": null,
   "metadata": {
    "id": "mDgKA0xGco6G"
   },
   "outputs": [],
   "source": [
    "!mkdir -p /content/drive/MyDrive/binfo1-work\n",
    "%cd /content/drive/MyDrive/binfo1-work\n",
    "!cp ../binfo1-datapack1/* ."
   ]
  },
  {
   "cell_type": "markdown",
   "metadata": {
    "id": "ecEA1PPQUlIK"
   },
   "source": [
    "# 프로그램 설치\n",
    "**첫 실습 시간에 데이터 복사를 마쳤으면 여기부터 시작합니다.**\n",
    "\n",
    "데이터 준비가 끝났으면, 이제 이번 시간 실습에 필요한 프로그램들 몇 가지를 추가로 설치합니다."
   ]
  },
  {
   "cell_type": "code",
   "execution_count": null,
   "metadata": {
    "id": "neteyWsWEKBy"
   },
   "outputs": [],
   "source": [
    "!conda install -y bedtools bioawk samtools"
   ]
  },
  {
   "cell_type": "markdown",
   "metadata": {
    "id": "Oe_54MZrEi4y"
   },
   "source": [
    "## Mission 3\n",
    "\n",
    "이번 미션에서는 Figure S2A 아랫쪽에 표시되는 clustered error 분석 (CIMS; Crosslinking-induced mutation sites)을 합니다. 자외선에 의해서 단백질이 붙어있다가 단백질 분해효소로 단백질을 뜯어내고 남은 자리에서는 reverse-transcriptase가 오류를 자주 냅니다. 오류율을 분석해서 단백질이 앉아 있었던 자리를 분석해 봅시다.\n",
    "\n",
    "데이터는 지난 번과 동일하기 때문에 이미 다운로드 받으셨다면 다시 다운로드 받을 필요는 없습니다."
   ]
  },
  {
   "cell_type": "code",
   "execution_count": null,
   "metadata": {
    "id": "IANz6DmLUkA6"
   },
   "outputs": [],
   "source": [
    "%cd /content/drive/MyDrive/binfo1-work/"
   ]
  },
  {
   "cell_type": "markdown",
   "metadata": {
    "id": "CMMDdHgyJAB1"
   },
   "source": [
    "Genome 전체로 계산하는 방법은 자원도 꽤 쓰고 시간이 걸리기 때문에 여기서는 유전자 단위로 간략하게 하도록 합시다. 예시로 Mirlet7g를 해 보고, 추가로 Mirlet7f-1과 Mirlet7d도 봐서 비교해 봅시다.\n",
    "\n",
    "논문은 예전 레퍼런스 유전체인 mm9을 쓰고 있기 때문에, 현재 사용되는 레퍼런스 mm39와는 좌표계에 차이가 있습니다. 새로 annotation에서 위치를 찾습니다."
   ]
  },
  {
   "cell_type": "code",
   "execution_count": 3,
   "metadata": {
    "id": "sumX23OcI_fl",
    "scrolled": true
   },
   "outputs": [
    {
     "name": "stdout",
     "output_type": "stream",
     "text": [
      "chr9\tENSEMBL\tgene\t106056039\t106056126\t.\t+\t.\tgene_id \"ENSMUSG00000065440.3\"; gene_type \"miRNA\"; gene_name \"Mirlet7g\"; level 3; mgi_id \"MGI:2676800\";\n",
      "chr9\tENSEMBL\ttranscript\t106056039\t106056126\t.\t+\t.\tgene_id \"ENSMUSG00000065440.3\"; transcript_id \"ENSMUST00000083506.3\"; gene_type \"miRNA\"; gene_name \"Mirlet7g\"; transcript_type \"miRNA\"; transcript_name \"Mirlet7g-201\"; level 3; transcript_support_level \"NA\"; mgi_id \"MGI:2676800\"; tag \"basic\";\n",
      "chr9\tENSEMBL\texon\t106056039\t106056126\t.\t+\t.\tgene_id \"ENSMUSG00000065440.3\"; transcript_id \"ENSMUST00000083506.3\"; gene_type \"miRNA\"; gene_name \"Mirlet7g\"; transcript_type \"miRNA\"; transcript_name \"Mirlet7g-201\"; exon_number 1; exon_id \"ENSMUSE00000522665.2\"; level 3; transcript_support_level \"NA\"; mgi_id \"MGI:2676800\"; tag \"basic\";\n"
     ]
    }
   ],
   "source": [
    "!grep -w 'Mirlet7g' ~/myproject/term_project_clean/binfo1-datapack1/gencode.gtf"
   ]
  },
  {
   "cell_type": "code",
   "execution_count": 27,
   "metadata": {},
   "outputs": [
    {
     "name": "stdout",
     "output_type": "stream",
     "text": [
      "chr13\tENSEMBL\tgene\t48691305\t48691393\t.\t-\t.\tgene_id \"ENSMUSG00000105621.3\"; gene_type \"miRNA\"; gene_name \"Mirlet7f-1\"; level 3; mgi_id \"MGI:2676798\";\n",
      "chr13\tENSEMBL\ttranscript\t48691305\t48691393\t.\t-\t.\tgene_id \"ENSMUSG00000105621.3\"; transcript_id \"ENSMUST00000198652.3\"; gene_type \"miRNA\"; gene_name \"Mirlet7f-1\"; transcript_type \"miRNA\"; transcript_name \"Mirlet7f-1-201\"; level 3; transcript_support_level \"NA\"; mgi_id \"MGI:2676798\"; tag \"basic\";\n",
      "chr13\tENSEMBL\texon\t48691305\t48691393\t.\t-\t.\tgene_id \"ENSMUSG00000105621.3\"; transcript_id \"ENSMUST00000198652.3\"; gene_type \"miRNA\"; gene_name \"Mirlet7f-1\"; transcript_type \"miRNA\"; transcript_name \"Mirlet7f-1-201\"; exon_number 1; exon_id \"ENSMUSE00001348852.2\"; level 3; transcript_support_level \"NA\"; mgi_id \"MGI:2676798\"; tag \"basic\";\n"
     ]
    }
   ],
   "source": [
    "!grep -w 'Mirlet7f-1' ~/myproject/term_project_clean/binfo1-datapack1/gencode.gtf"
   ]
  },
  {
   "cell_type": "code",
   "execution_count": 39,
   "metadata": {},
   "outputs": [
    {
     "name": "stdout",
     "output_type": "stream",
     "text": [
      "chr13\tENSEMBL\tgene\t48689488\t48689590\t.\t-\t.\tgene_id \"ENSMUSG00000065453.3\"; gene_type \"miRNA\"; gene_name \"Mirlet7d\"; level 3; mgi_id \"MGI:2676796\";\n",
      "chr13\tENSEMBL\ttranscript\t48689488\t48689590\t.\t-\t.\tgene_id \"ENSMUSG00000065453.3\"; transcript_id \"ENSMUST00000083519.3\"; gene_type \"miRNA\"; gene_name \"Mirlet7d\"; transcript_type \"miRNA\"; transcript_name \"Mirlet7d-201\"; level 3; transcript_support_level \"NA\"; mgi_id \"MGI:2676796\"; tag \"basic\";\n",
      "chr13\tENSEMBL\texon\t48689488\t48689590\t.\t-\t.\tgene_id \"ENSMUSG00000065453.3\"; transcript_id \"ENSMUST00000083519.3\"; gene_type \"miRNA\"; gene_name \"Mirlet7d\"; transcript_type \"miRNA\"; transcript_name \"Mirlet7d-201\"; exon_number 1; exon_id \"ENSMUSE00000522678.2\"; level 3; transcript_support_level \"NA\"; mgi_id \"MGI:2676796\"; tag \"basic\";\n"
     ]
    }
   ],
   "source": [
    "!grep -w 'Mirlet7d' ~/myproject/term_project_clean/binfo1-datapack1/gencode.gtf"
   ]
  },
  {
   "cell_type": "markdown",
   "metadata": {
    "id": "1FSyRKOGK9Ur"
   },
   "source": [
    "위 결과에서 gtf 파일이 없다고 나오면 압축이 풀리지 않은 상태일 수 있으니, 미리 풀어서 작업해보세요."
   ]
  },
  {
   "cell_type": "markdown",
   "metadata": {
    "id": "iB_C8P1fJkNE"
   },
   "source": [
    "Splicing 되지 않는 transcript이기 때문에 결과가 단조롭습니다. 해당 좌표 범위로 bam을 솎아냅니다."
   ]
  },
  {
   "cell_type": "code",
   "execution_count": 7,
   "metadata": {},
   "outputs": [
    {
     "name": "stdout",
     "output_type": "stream",
     "text": [
      "163\n"
     ]
    }
   ],
   "source": [
    "!$SAMTOOLS view -c binfo1-datapack1/CLIP-35L33G.bam chr9:106056039-106056126"
   ]
  },
  {
   "cell_type": "code",
   "execution_count": 28,
   "metadata": {},
   "outputs": [
    {
     "name": "stdout",
     "output_type": "stream",
     "text": [
      "158\n"
     ]
    }
   ],
   "source": [
    "!$SAMTOOLS view -c binfo1-datapack1/CLIP-35L33G.bam chr13:48691305-48691393"
   ]
  },
  {
   "cell_type": "code",
   "execution_count": 40,
   "metadata": {},
   "outputs": [
    {
     "name": "stdout",
     "output_type": "stream",
     "text": [
      "187\n"
     ]
    }
   ],
   "source": [
    "!$SAMTOOLS view -c binfo1-datapack1/CLIP-35L33G.bam chr13:48689488-48689590"
   ]
  },
  {
   "cell_type": "code",
   "execution_count": 11,
   "metadata": {
    "id": "opqsj9vNIL-z"
   },
   "outputs": [
    {
     "name": "stdout",
     "output_type": "stream",
     "text": [
      "163\n"
     ]
    }
   ],
   "source": [
    "!$SAMTOOLS view -b -o CLIP-let7g.bam \\\n",
    "        binfo1-datapack1/CLIP-35L33G.bam \\\n",
    "        chr9:106056039-106056126\n",
    "\n",
    "!$SAMTOOLS view CLIP-let7g.bam | /usr/bin/wc -l"
   ]
  },
  {
   "cell_type": "code",
   "execution_count": 29,
   "metadata": {},
   "outputs": [
    {
     "name": "stdout",
     "output_type": "stream",
     "text": [
      "158\n"
     ]
    }
   ],
   "source": [
    "!$SAMTOOLS view -b -o CLIP-let7f-1.bam \\\n",
    "        binfo1-datapack1/CLIP-35L33G.bam \\\n",
    "        chr13:48691305-48691393\n",
    "\n",
    "!$SAMTOOLS view CLIP-let7f-1.bam | /usr/bin/wc -l"
   ]
  },
  {
   "cell_type": "code",
   "execution_count": 41,
   "metadata": {},
   "outputs": [
    {
     "name": "stdout",
     "output_type": "stream",
     "text": [
      "187\n"
     ]
    }
   ],
   "source": [
    "!$SAMTOOLS view -b -o CLIP-let7d.bam \\\n",
    "        binfo1-datapack1/CLIP-35L33G.bam \\\n",
    "        chr13:48689488-48689590\n",
    "\n",
    "!$SAMTOOLS view CLIP-let7d.bam | /usr/bin/wc -l"
   ]
  },
  {
   "cell_type": "markdown",
   "metadata": {
    "id": "baEtdt6aJ12N",
    "jupyter": {
     "source_hidden": true
    }
   },
   "source": [
    "각 자리에 mapping된 read들의 분포를 요약하기 위해 samtools mpileup을 이용합니다. Shannon entropy를 구할 때는 reference를 따로 줄 필요는 없습니다. samtools를 쓰지 않고 직접 read를 분석하면 더욱 더 재미있습니다."
   ]
  },
  {
   "cell_type": "code",
   "execution_count": 13,
   "metadata": {
    "id": "5_RLXcMpIL8J"
   },
   "outputs": [
    {
     "name": "stdout",
     "output_type": "stream",
     "text": [
      "[mpileup] 1 samples in 1 input files\n",
      "68548 CLIP-let7g.pileup\n"
     ]
    }
   ],
   "source": [
    "!$SAMTOOLS mpileup CLIP-let7g.bam > CLIP-let7g.pileup\n",
    "!wc -l CLIP-let7g.pileup"
   ]
  },
  {
   "cell_type": "code",
   "execution_count": 30,
   "metadata": {},
   "outputs": [
    {
     "name": "stdout",
     "output_type": "stream",
     "text": [
      "[mpileup] 1 samples in 1 input files\n",
      "97 CLIP-let7f-1.pileup\n"
     ]
    }
   ],
   "source": [
    "!$SAMTOOLS mpileup CLIP-let7f-1.bam > CLIP-let7f-1.pileup\n",
    "!wc -l CLIP-let7f-1.pileup"
   ]
  },
  {
   "cell_type": "code",
   "execution_count": 42,
   "metadata": {},
   "outputs": [
    {
     "name": "stdout",
     "output_type": "stream",
     "text": [
      "[mpileup] 1 samples in 1 input files\n",
      "87 CLIP-let7d.pileup\n"
     ]
    }
   ],
   "source": [
    "!$SAMTOOLS mpileup CLIP-let7d.bam > CLIP-let7d.pileup\n",
    "!wc -l CLIP-let7d.pileup"
   ]
  },
  {
   "cell_type": "markdown",
   "metadata": {
    "id": "Xuzv5lSEKVoG"
   },
   "source": [
    "Mirlet7g는 100bp도 안 되는 짧은 gene인데 `mpileup` 결과는 엄청 길게 나옵니다. 왜 그럴까요? (잘 한 번 생각해 봅시다)"
   ]
  },
  {
   "cell_type": "markdown",
   "metadata": {
    "id": "hpC-bsZEKozF"
   },
   "source": [
    "이제 Mirlet7g의 핵심부분을 살펴봐서 어떻게 하면 좋을지 견적을 내 봅니다."
   ]
  },
  {
   "cell_type": "code",
   "execution_count": 14,
   "metadata": {
    "id": "1WulVeZqIL5W"
   },
   "outputs": [
    {
     "name": "stdout",
     "output_type": "stream",
     "text": [
      "chr9\t106007092\tN\t9\t^Ga^Ia^Ha^Ia^Ga^Ga^Ha^Ia^Ia\t<IFIGGHII\n",
      "chr9\t106007093\tN\t9\tggggggggg\tAFGIEGDII\n",
      "chr9\t106007094\tN\t9\tccccccccc\tEHHIGAFEH\n",
      "chr9\t106007095\tN\t9\taaaaaaaaa\t?HDIFA>II\n",
      "chr9\t106007096\tN\t9\taaaaaaaaa\tEHHIG@CHH\n",
      "chr9\t106007097\tN\t9\tttttttttt\t=HGEGDFII\n",
      "chr9\t106007098\tN\t9\taaaaaaaaa\t?HHIGDEII\n",
      "chr9\t106007099\tN\t9\tg-2nng-2nng-2nng-2nng-2nng-2nng-2nng-2nng-2nn\t?IEHGEDII\n",
      "chr9\t106007100\tN\t9\t*********\t8IBIBC@EI\n",
      "chr9\t106007101\tN\t9\t*********\t8IBIBC@EI\n"
     ]
    }
   ],
   "source": [
    "!head CLIP-let7g.pileup"
   ]
  },
  {
   "cell_type": "code",
   "execution_count": 31,
   "metadata": {},
   "outputs": [
    {
     "name": "stdout",
     "output_type": "stream",
     "text": [
      "chr13\t48691290\tN\t1\t^Gg\tA\n",
      "chr13\t48691291\tN\t26\tc^Hc^Ic^Dc^Hc^Gc^Ic^Gc^Ic^Gc^Ic^Ic^Hc^Hc^Hc^Ec^Ic^Ic^Ic^Hc^Hc^Hc^Ic^Ic^Ic^Hc\tDDI4G>I@H;GGGFH7IHIHHHFIIG\n",
      "chr13\t48691292\tN\t25\taaaaaaaaaaaaaaaaaaaaaaaaa\tDGIG>IBI?IIGHH7HIEHFFGHIG\n",
      "chr13\t48691293\tN\t38\tgggggggggggggggggggggggggg^Ig^Hg^Ig^Ig^Ig^Ig^Hg^Ig^Ig^Dg^Ig^Ig\tDGI4>AIGIBIIGGE/IIIDGHIIIHEGIHIIBIIBII\n",
      "chr13\t48691294\tN\t49\tcccccccccccccccccccccccccccccccccccccc^Ec^Hc^Ic^Hc^Hc^Gc^Ic^Ic^Gc^Ic^Hc\t?>I1E5IDG<I>EHH7IIIFHHEIHGCEDIHIEHG?II3BIDD7IHGGH\n",
      "chr13\t48691295\tN\t58\taaaaaaaaaaaaaaaaaaaaaaaaaaaaaaaaaaaaaaaaaaaaaaaaa^Ha^Ia^Ha^Ha^Ha^Ia^Ia^Ia^Ha\tBDI?HBIGHGIHGHG7IIIGBGIIIGBEFIIIBIH=II=EIGA6IHGIHDIHGGIII0\n",
      "chr13\t48691296\tN\t81\taaaaaaaaaaaaaaaaaaaaaaaaaaaaaaaaaaaaaaaaaaaaaaaaaaaaaaaaaa^Ia^Ia^Da^Ia^Ha^Ia^Ha^Ga^Ha^Ha^Ga^Ia^Ha^Ha^Ia^Ha^Ha^Ia^Ha^Ia^Ga^Ia^Ga\t<GI7H?IGIEIIGHG;FIIGGHIIIGIBGDIHGII@II9FHDA9IIGGHGIEGGIIIBEIBIHIG;DG?IBHICGIHI6I;\n",
      "chr13\t48691297\tN\t80\tgggggggggggggggggggggggggggggggggggggggggggggggggggggggggggggggggggggggggggggggg\t8EI.HBIGIGIGGHG1IIIGGGIIIEIBGGIIDII=II=FIGD5IIGDHDIHGGIGH@DIDGDIB1GGDIHGD=EHHGH5\n",
      "chr13\t48691298\tN\t80\ttttttttttttttttttttttttttttttttttttttttttttttttttttttttttttttttttttttttttttttttt\tGI4H7IGIGIIGHG7IHIGDHIGIGIBGGHIDIH@II?EIGG=IIGIHDGHG8IFH7DH@HHIG1GH9HDHI<GIDB.H/\n",
      "chr13\t48691299\tN\t80\tcccccccccccccccccccccccccccccccccccccccccccccccccccccccccccccccccccccccccccccccc\t<<I7H=I@I;IHGGG7HIIGGHGGHGFEBIEIDII=II:HIC><IIGIHGHGEGIII;HGBIHGD;GF<IGHICEIDII4\n"
     ]
    }
   ],
   "source": [
    "!head CLIP-let7f-1.pileup"
   ]
  },
  {
   "cell_type": "code",
   "execution_count": 43,
   "metadata": {},
   "outputs": [
    {
     "name": "stdout",
     "output_type": "stream",
     "text": [
      "chr13\t48689488\tN\t24\t^Ga^Ia^Ha^Ia^Ha^Ia^Ia^Ia^Ga^Ia^Ia^Ia^Ia^Ia^Ha^Ia^Ga^Ga^Ga^Ia^Ea^Da^Ha^Ga\tBIHGGIHIEIIIGIHIGEGH5BDD\n",
      "chr13\t48689489\tN\t53\taaaaaaaaaaaaaaaaaaaaaaaaa^Ia^Ha^Ia^Ga^Ga^Ha^Ia^Ia^Ga^Ga^Ia^Ia^Ha^Ia^Ia^Ha^Ha^Da^Ia^Ha^Ia^Ia^Ia^Ia^Ia^Ha^Ga^Ga\tGIHIGIIIEIIIIIHIG>EB4@5HDIHIBEGIID?IIGII@H>IGHIIIGHDC\n",
      "chr13\t48689490\tN\t69\tttttttttttttttttttttttttttttttttttttttttttttttttttttt^Gt^Gt^Ht^Gt^It^It^Ht^It^Gt^Gt^Ht^It^It^It^Ht^It\tGIHIGHIFFIIIIIFHGEDG;2>FDIHIDGBIIDBIIDIIAH>IBGIIIGHBG=BG=IIGIDGHFIIHI\n",
      "chr13\t48689491\tN\t105\taaaaaaaaaaaaaaaaaaaaaaaaaaaaaaaaaaaaaaaaaaaaaaaaaaaaaaaaaaaaaaaaaaaaa^Ia^Ia^Ha^Ga^Ia^Ga^Ia^Ga^Ha^Ha^Ha^Ga^Ia^Ha^Ha^Ia^@a^Ia^Ia^Ia^Ga^Ha^Ha^Ga^Ha^Ga^Ia^Ha^Ga^Ia^Ga^Ha^Ga^Ia^Ia^Ga\tEIGHEHHIEIIIIIHIGCBH:?>HGGHI>GBIIGBIIGIHBB;IHIIIIGHDC3=G:IGGIDEHIFIGHII=GIDHEGHHEIGGI7III9=HGBAIGBIGFG>I2\n",
      "chr13\t48689492\tN\t105\taaaaaaaaaaaaaaaaaaaaaaaaaaaaaaaaaaaaaaaaaaaaaaaaaaaaaaaaaaaaaaaaaaaaaaaaaaaaaaaaaaaaaaaaaaaaaaaaaaaaaaaaa\tGIGIEIEI7IIIGIGIG;?F:D@G7GHIAGAIIG3IIGIHDB2IHIIIIDDGC1<GCIIHIGCHIIIEIIIGCIBIEGHH?HHFI9IIIA=GGB?IEGIFEGGIA\n",
      "chr13\t48689493\tN\t105\tggggggggggggggggggggggggggggggggggggggggggggggggggggggggggggggggggggggggggggggggggggggggggggggggggggggggg\tBIEIGHGI7IHHGIGHG=?F58>E5EHIAGAHIDAHIGII:EDHHIHIIGG>>5EDAIIFFGDHIIHGIII8EIDIBBHHBIGHI7HII?=GGBEIG>HFEGGIA\n",
      "chr13\t48689494\tN\t105\tggggggggggggggggggggggggggggggggggggggggggggggggggggggggggggggggggggggggggggggggggggggggggggggggggggggggg\tFIFEGIFE3HFIGIGHG=?D1?@D5EHIAEADIBFIIGHIBD<IHDGIIGBD>03GEEIHF@DHIIIDIIHEAIDIC>HHBHFDI9FIIE=GGBAIGEFEEGIIA\n",
      "chr13\t48689495\tN\t104\tcccccccccccccccccccccccccccccccccccccccccccccccccccccccccccccccccccccccccccccccccccccccccccccccccccccccc\tGID>GHEG.HIHGH>IG2;B;?>E0BCI8G?FGA?HH@HIB?DHBIIIHGBG90BAEIEF8CEDIHGIIHGAI?I3BGH;HHHE7IIIA=GG:?IFEBF2GBI;\n",
      "chr13\t48689496\tN\t102\tcccccccccccccccccccccccccccccccccccccccccccccccccccccccccccccccccccccccccccccccccccccccccccccccccccccc\tFI8EEGEI.GEB<ID>G38B19>BFFI<D<FGAEFIGDFB@@CH>EHH8B7>BDCEEEBBCHBGEEFHIG?I;IG@HH2EEGI9IIIA>;<@IE<E:CDIG<\n",
      "chr13\t48689497\tN\t104\tcccccccccccccccccccccccccccccccccccccccccccccccccccccccccccccccccccccccccccccccccccccccccccccccccccccccc\tDIHFBIFG.HIIFIGIB3;B993E:IGHAGDIDC3IIHDIBDHBIIIII>;58?A>IIEHBAHBHIGHIEFBI0BG<HHEEGDG.III?7H?>3IE<H8EDGG?\n"
     ]
    }
   ],
   "source": [
    "!head CLIP-let7d.pileup"
   ]
  },
  {
   "cell_type": "code",
   "execution_count": 15,
   "metadata": {
    "id": "GUdB31wAIL0K"
   },
   "outputs": [
    {
     "name": "stdout",
     "output_type": "stream",
     "text": [
      "chr9\t106056117\tN\t138\t<<<<<<<<<CCCCCCCCCCCCCCCCCCCCCCCCCCCCCCCCCCCCCCCCCCCCCCCCCCCCCCCCCCCCCCCCCCCCCCCCCCCCCCCCCCCCCCCCCCCCCCCCCCCCCCCCCCCCCCCCCCCCCCCCCCCCCCCCC\tBHEIG?DIIHGHII:;HGIIDGGGIIBGEB?>H<GGIIIIDIIGFHIHH9IGG=GGHIDH?DGIBIIHHGGIEIGI8GIDHDG.GGHEDIIDIDGDHIDGIFGHG;DCDDHEE@I?CGG:IHGIBGIHIIDG@DHIGG\n",
      "chr9\t106056118\tN\t139\t<<<<<<<<<CCCCCCCCCCCCCCCCCCCCCCCCCCCCCCCCCCCCCCCCCCCCCCCCCCCCCCCCCCCCCCCCCCCCCCCCCCCCCCCCCCCCCCCCCCCCCCCCCCCCCCCCCCCCCCCCCCCCCCCCCCCCCCCCCC\tBHEIG?DIIHGHII3AHIIIDGGGIIB3EHFBH>GIIIIIIIIIHIIHHAIIGBDGHIDH?GIIGIIHHDIIHIGIGGI=BGG9GIHHHIIGI=IAIIGGIEHGIEBG@DHDE;IBDGG4IGGIGGIIIIGGGDGIH1G\n",
      "chr9\t106056119\tN\t138\t<<<<<<<<<TTTTTTTTTTTTTTTTTTTTTTTTTT$TTTT$TTTTTTTTTTTTTTT$TTTT$TTTTTTT$TTTTTTTTTTTTTTTTTTTTTTTTTTTTTTTTTTTTTTTTTTTTTTTTTTTTTTTTTTTTTTTTTTTTTTTTT\tBHEIG?DIIGEFII:/GIIEDDHDIIF>BH3<HBEGIHIGFIIIBIIBE:HHGD>EGGDH7BIIGGIHHDHIHDEIGEIDHGG;GIHGHHIGD:IGHD:GGEHH?3G87HD</I=DGG=IHHIHBIFII@<HDHHH1G\n",
      "chr9\t106056120\tN\t133\t<<<<<<<<<TTTTTTTTTTTTTTTTTTTTTTTTTTTT$TTTT$TTT$TTTTTTTTTT$TTTTTTTT$TTTTTTTTTTTT$T$TTTTTT$TTTT$TT$TTTTTTTTTTTTTTTTTTT$TTTTTTTTTTTTTTTTTTTTTTTTTTT\tBHEIG?DIIHFBII74BIIIGDIIIIA8DHECHBIIIIIIIIHIIHB?IDGGGFDH?GIIIIHH@GHHGEDDGIEHBEDIHHGIIGI:HBII8DIIHHIBDD;<HDD3HB?@G?HHIIHIIIIIB@HDHDH8G\n",
      "chr9\t106056121\tN\t118\t<<<<<<<<<GGGGGGGGGGGGGGGGGGGG$G$G$G$G$G$G$G$GGGGGG$GG$GGGG$GG$GGGG$G$GGG$GGG$GGG$GGGG$GGGGG$GGGGGGGGG$GGGGGG$GG$GGG$GGG$GGGG$G$GG$GGGGGG$GGGG$G$G$G$G$G$\tBHEIG?DIIB<EDI/7BHHFB<FGHI3?GG>HAIHIFEF@H<<2>D3EE;HBAIIIBH4IHG@DI>G482GGFHID:I9II@BH@>HE8@;<HGI:GGBIDEIBIGIIIE?G@EIH7G\n",
      "chr9\t106056122\tN\t88\t<<<<<<<<<C$C$C$C$C$C$C$C$C$C$C$C$C$CCCCCC$C$C$C$C$C$C$CCC$C$C$C$CC$C$CC$CC$C$C$C$C$C$C$C$C$C$C$C$C$C$CC$C$C$C$C$C$CC$CC$C$CCC$C$C$C$C$CCCCC$CCC$C\tBHEIG?DIIEEGIIC;GIHEGBIIIIB1=FII?FEIGGGHDBIG=HHIIEBHD>EIHIG=I:HGBIIEF?E;DB3HB<GIHIHHEADF\n",
      "chr9\t106056123\tN\t31\t<<<<<<<<<CCCCCCCCCCCCCCCCCCCCCC\tBHEIG?DIIIIII>GIGGIGGD>BIHHHIEH\n",
      "chr9\t106056124\tN\t31\t<<<<<<<<<AAAAAAAAAAAAAAAAAAAAAA\tBHEIG?DIIIIHIGGIGGGIG:9DDBIEGFH\n",
      "chr9\t106056125\tN\t31\t<<<<<<<<<GGGGGGGGGGGGGGGGGGGGGG\tBHEIG?DIIIIIIGGE@GFIGD;GIGIIFHD\n",
      "chr9\t106056126\tN\t30\t<<<<<<<<<GGGGGGGGGGGGGGGGGGGGG\tBHEIG?DIIIIGHGHIGHI>G;GGGIGIHG\n"
     ]
    }
   ],
   "source": [
    "!awk '$2 >= 106056039 && $2 <= 106056126 { print $0; }' CLIP-let7g.pileup > CLIP-let7g-gene.pileup\n",
    "!tail CLIP-let7g-gene.pileup"
   ]
  },
  {
   "cell_type": "code",
   "execution_count": 32,
   "metadata": {},
   "outputs": [
    {
     "name": "stdout",
     "output_type": "stream",
     "text": [
      "chr13\t48691377\tN\t24\ttttttttttttttttttttttttt\tBIIGIGEDCGFIFGI@GHIDDIGI\n",
      "chr13\t48691378\tN\t24\taaaaaaaaaaaaaaaaaaaaaaaa\t?HIFIGGGAFEFABI>GII;EIGI\n",
      "chr13\t48691379\tN\t24\tcccccccccccccccccccccccc\tEIIGIGGDEGGIEGI;GIIDDIGI\n",
      "chr13\t48691380\tN\t24\ttttttttttttttttttttttttt\tEIIGIBGGEGFIFGI@GIIBDIGI\n",
      "chr13\t48691381\tN\t24\taaaaaaaaaaaaaaaaaaaaaaaa\tBEHFIGEG@FCEAGH4GII;AIDH\n",
      "chr13\t48691382\tN\t24\tcccccccccccccccccccccccc\t?IEGIHGG?GEGEBI=GIIDEIGG\n",
      "chr13\t48691383\tN\t24\tcccccccccccccccccccccccc\tEIGGIGGGAGFGFGI=GIIDGIGG\n",
      "chr13\t48691384\tN\t24\ttttttttttttttttttttttttt\t<IGGIHGG>GEGBGI8GII@GIGG\n",
      "chr13\t48691385\tN\t24\tcccccccccccccccccccccccc\tBIGGIBDD?GEGBEI=GIIBGIGG\n",
      "chr13\t48691386\tN\t24\ta$a$a$a$a$a$a$a$a$a$a$a$a$a$a$a$a$a$a$a$a$a$a$a$\tEIGGIFDECGFGFGI2BIIDGIGG\n"
     ]
    }
   ],
   "source": [
    "!awk '$2 >= 48691305 && $2 <= 48691393 { print $0; }' CLIP-let7f-1.pileup > CLIP-let7f-1-gene.pileup\n",
    "!tail CLIP-let7f-1-gene.pileup"
   ]
  },
  {
   "cell_type": "code",
   "execution_count": 44,
   "metadata": {},
   "outputs": [
    {
     "name": "stdout",
     "output_type": "stream",
     "text": [
      "chr13\t48689565\tN\t6\tcccccc\t>IGIIH\n",
      "chr13\t48689566\tN\t6\ttttttt\t:IGFIH\n",
      "chr13\t48689567\tN\t6\taaaaaa\t8IFIFI\n",
      "chr13\t48689568\tN\t6\tcccccc\t?IGIII\n",
      "chr13\t48689569\tN\t6\ttttttt\t;IGIII\n",
      "chr13\t48689570\tN\t5\taaaaa\tEDECD\n",
      "chr13\t48689571\tN\t6\tcccccc\t:GGIGG\n",
      "chr13\t48689572\tN\t6\tcccccc\t:GGIGG\n",
      "chr13\t48689573\tN\t6\ttttttt\t5GGIGG\n",
      "chr13\t48689574\tN\t6\tc$c$c$c$c$c$\t;GGIGG\n"
     ]
    }
   ],
   "source": [
    "!awk '$2 >= 48689488 && $2 <= 48689590 { print $0; }' CLIP-let7d.pileup > CLIP-let7d-gene.pileup\n",
    "!tail CLIP-let7d-gene.pileup"
   ]
  },
  {
   "cell_type": "markdown",
   "metadata": {
    "id": "CNEWC4t_MA__"
   },
   "source": [
    "이제 pandas에 불러와서 분석해 봅니다. R을 쓰시는 분들은 R로 보내서 작업하셔도 됩니다."
   ]
  },
  {
   "cell_type": "code",
   "execution_count": 17,
   "metadata": {
    "collapsed": true,
    "jupyter": {
     "outputs_hidden": true
    }
   },
   "outputs": [
    {
     "name": "stdout",
     "output_type": "stream",
     "text": [
      "Channels:\n",
      " - conda-forge\n",
      " - bioconda\n",
      " - defaults\n",
      "Platform: linux-64\n",
      "Collecting package metadata (repodata.json): done\n",
      "Solving environment: done\n",
      "\n",
      "## Package Plan ##\n",
      "\n",
      "  environment location: /home/hyeonji/miniconda/envs/bioinfo\n",
      "\n",
      "  added / updated specs:\n",
      "    - pandas\n",
      "\n",
      "\n",
      "The following packages will be downloaded:\n",
      "\n",
      "    package                    |            build\n",
      "    ---------------------------|-----------------\n",
      "    numpy-2.2.5                |  py311h5d046bc_0         8.6 MB  conda-forge\n",
      "    pandas-2.2.3               |  py311h7db5c69_3        15.0 MB  conda-forge\n",
      "    ------------------------------------------------------------\n",
      "                                           Total:        23.6 MB\n",
      "\n",
      "The following NEW packages will be INSTALLED:\n",
      "\n",
      "  libblas            conda-forge/linux-64::libblas-3.9.0-31_h59b9bed_openblas \n",
      "  libcblas           conda-forge/linux-64::libcblas-3.9.0-31_he106b2a_openblas \n",
      "  libgfortran        conda-forge/linux-64::libgfortran-15.1.0-h69a702a_2 \n",
      "  libgfortran5       conda-forge/linux-64::libgfortran5-15.1.0-hcea5267_2 \n",
      "  liblapack          conda-forge/linux-64::liblapack-3.9.0-31_h7ac8fdf_openblas \n",
      "  libopenblas        conda-forge/linux-64::libopenblas-0.3.29-pthreads_h94d23a6_0 \n",
      "  numpy              conda-forge/linux-64::numpy-2.2.5-py311h5d046bc_0 \n",
      "  pandas             conda-forge/linux-64::pandas-2.2.3-py311h7db5c69_3 \n",
      "  python-tzdata      conda-forge/noarch::python-tzdata-2025.2-pyhd8ed1ab_0 \n",
      "  pytz               conda-forge/noarch::pytz-2025.2-pyhd8ed1ab_0 \n",
      "\n",
      "\n",
      "\n",
      "Downloading and Extracting Packages:\n",
      "pandas-2.2.3         | 15.0 MB   |                                       |   0% \n",
      "numpy-2.2.5          | 8.6 MB    |                                       |   0% \u001b[A\n",
      "pandas-2.2.3         | 15.0 MB   |                                       |   0% \u001b[A\n",
      "pandas-2.2.3         | 15.0 MB   | ###6                                  |  10% \u001b[A\n",
      "pandas-2.2.3         | 15.0 MB   | #########                             |  24% \u001b[A\n",
      "pandas-2.2.3         | 15.0 MB   | ##############6                       |  40% \u001b[A\n",
      "pandas-2.2.3         | 15.0 MB   | ###################################   |  95% \u001b[A\n",
      "pandas-2.2.3         | 15.0 MB   | ##################################### | 100% \u001b[A\n",
      "                                                                                \u001b[A\n",
      "                                                                                \u001b[A\n",
      "Preparing transaction: done\n",
      "Verifying transaction: done\n",
      "Executing transaction: done\n",
      "\n",
      "Note: you may need to restart the kernel to use updated packages.\n"
     ]
    }
   ],
   "source": [
    "conda install -y pandas"
   ]
  },
  {
   "cell_type": "code",
   "execution_count": 18,
   "metadata": {
    "id": "PWq1ItOxILxa"
   },
   "outputs": [
    {
     "data": {
      "text/html": [
       "<div>\n",
       "<style scoped>\n",
       "    .dataframe tbody tr th:only-of-type {\n",
       "        vertical-align: middle;\n",
       "    }\n",
       "\n",
       "    .dataframe tbody tr th {\n",
       "        vertical-align: top;\n",
       "    }\n",
       "\n",
       "    .dataframe thead th {\n",
       "        text-align: right;\n",
       "    }\n",
       "</style>\n",
       "<table border=\"1\" class=\"dataframe\">\n",
       "  <thead>\n",
       "    <tr style=\"text-align: right;\">\n",
       "      <th></th>\n",
       "      <th>chrom</th>\n",
       "      <th>pos</th>\n",
       "      <th>_ref</th>\n",
       "      <th>count</th>\n",
       "      <th>basereads</th>\n",
       "      <th>quals</th>\n",
       "    </tr>\n",
       "  </thead>\n",
       "  <tbody>\n",
       "    <tr>\n",
       "      <th>83</th>\n",
       "      <td>chr9</td>\n",
       "      <td>106056122</td>\n",
       "      <td>N</td>\n",
       "      <td>88</td>\n",
       "      <td>&lt;&lt;&lt;&lt;&lt;&lt;&lt;&lt;&lt;C$C$C$C$C$C$C$C$C$C$C$C$C$CCCCCC$C$C$...</td>\n",
       "      <td>BHEIG?DIIEEGIIC;GIHEGBIIIIB1=FII?FEIGGGHDBIG=H...</td>\n",
       "    </tr>\n",
       "    <tr>\n",
       "      <th>84</th>\n",
       "      <td>chr9</td>\n",
       "      <td>106056123</td>\n",
       "      <td>N</td>\n",
       "      <td>31</td>\n",
       "      <td>&lt;&lt;&lt;&lt;&lt;&lt;&lt;&lt;&lt;CCCCCCCCCCCCCCCCCCCCCC</td>\n",
       "      <td>BHEIG?DIIIIII&gt;GIGGIGGD&gt;BIHHHIEH</td>\n",
       "    </tr>\n",
       "    <tr>\n",
       "      <th>85</th>\n",
       "      <td>chr9</td>\n",
       "      <td>106056124</td>\n",
       "      <td>N</td>\n",
       "      <td>31</td>\n",
       "      <td>&lt;&lt;&lt;&lt;&lt;&lt;&lt;&lt;&lt;AAAAAAAAAAAAAAAAAAAAAA</td>\n",
       "      <td>BHEIG?DIIIIHIGGIGGGIG:9DDBIEGFH</td>\n",
       "    </tr>\n",
       "    <tr>\n",
       "      <th>86</th>\n",
       "      <td>chr9</td>\n",
       "      <td>106056125</td>\n",
       "      <td>N</td>\n",
       "      <td>31</td>\n",
       "      <td>&lt;&lt;&lt;&lt;&lt;&lt;&lt;&lt;&lt;GGGGGGGGGGGGGGGGGGGGGG</td>\n",
       "      <td>BHEIG?DIIIIIIGGE@GFIGD;GIGIIFHD</td>\n",
       "    </tr>\n",
       "    <tr>\n",
       "      <th>87</th>\n",
       "      <td>chr9</td>\n",
       "      <td>106056126</td>\n",
       "      <td>N</td>\n",
       "      <td>30</td>\n",
       "      <td>&lt;&lt;&lt;&lt;&lt;&lt;&lt;&lt;&lt;GGGGGGGGGGGGGGGGGGGGG</td>\n",
       "      <td>BHEIG?DIIIIGHGHIGHI&gt;G;GGGIGIHG</td>\n",
       "    </tr>\n",
       "  </tbody>\n",
       "</table>\n",
       "</div>"
      ],
      "text/plain": [
       "   chrom        pos _ref  count  \\\n",
       "83  chr9  106056122    N     88   \n",
       "84  chr9  106056123    N     31   \n",
       "85  chr9  106056124    N     31   \n",
       "86  chr9  106056125    N     31   \n",
       "87  chr9  106056126    N     30   \n",
       "\n",
       "                                            basereads  \\\n",
       "83  <<<<<<<<<C$C$C$C$C$C$C$C$C$C$C$C$C$CCCCCC$C$C$...   \n",
       "84                    <<<<<<<<<CCCCCCCCCCCCCCCCCCCCCC   \n",
       "85                    <<<<<<<<<AAAAAAAAAAAAAAAAAAAAAA   \n",
       "86                    <<<<<<<<<GGGGGGGGGGGGGGGGGGGGGG   \n",
       "87                     <<<<<<<<<GGGGGGGGGGGGGGGGGGGGG   \n",
       "\n",
       "                                                quals  \n",
       "83  BHEIG?DIIEEGIIC;GIHEGBIIIIB1=FII?FEIGGGHDBIG=H...  \n",
       "84                    BHEIG?DIIIIII>GIGGIGGD>BIHHHIEH  \n",
       "85                    BHEIG?DIIIIHIGGIGGGIG:9DDBIEGFH  \n",
       "86                    BHEIG?DIIIIIIGGE@GFIGD;GIGIIFHD  \n",
       "87                     BHEIG?DIIIIGHGHIGHI>G;GGGIGIHG  "
      ]
     },
     "execution_count": 18,
     "metadata": {},
     "output_type": "execute_result"
    }
   ],
   "source": [
    "import pandas as pd\n",
    "\n",
    "pileup = pd.read_csv('CLIP-let7g-gene.pileup', sep='\\t', names=['chrom', 'pos', '_ref', 'count', 'basereads', 'quals'])\n",
    "pileup.tail()"
   ]
  },
  {
   "cell_type": "code",
   "execution_count": 33,
   "metadata": {},
   "outputs": [
    {
     "data": {
      "text/html": [
       "<div>\n",
       "<style scoped>\n",
       "    .dataframe tbody tr th:only-of-type {\n",
       "        vertical-align: middle;\n",
       "    }\n",
       "\n",
       "    .dataframe tbody tr th {\n",
       "        vertical-align: top;\n",
       "    }\n",
       "\n",
       "    .dataframe thead th {\n",
       "        text-align: right;\n",
       "    }\n",
       "</style>\n",
       "<table border=\"1\" class=\"dataframe\">\n",
       "  <thead>\n",
       "    <tr style=\"text-align: right;\">\n",
       "      <th></th>\n",
       "      <th>chrom</th>\n",
       "      <th>pos</th>\n",
       "      <th>_ref</th>\n",
       "      <th>count</th>\n",
       "      <th>basereads</th>\n",
       "      <th>quals</th>\n",
       "    </tr>\n",
       "  </thead>\n",
       "  <tbody>\n",
       "    <tr>\n",
       "      <th>77</th>\n",
       "      <td>chr13</td>\n",
       "      <td>48691382</td>\n",
       "      <td>N</td>\n",
       "      <td>24</td>\n",
       "      <td>cccccccccccccccccccccccc</td>\n",
       "      <td>?IEGIHGG?GEGEBI=GIIDEIGG</td>\n",
       "    </tr>\n",
       "    <tr>\n",
       "      <th>78</th>\n",
       "      <td>chr13</td>\n",
       "      <td>48691383</td>\n",
       "      <td>N</td>\n",
       "      <td>24</td>\n",
       "      <td>cccccccccccccccccccccccc</td>\n",
       "      <td>EIGGIGGGAGFGFGI=GIIDGIGG</td>\n",
       "    </tr>\n",
       "    <tr>\n",
       "      <th>79</th>\n",
       "      <td>chr13</td>\n",
       "      <td>48691384</td>\n",
       "      <td>N</td>\n",
       "      <td>24</td>\n",
       "      <td>tttttttttttttttttttttttt</td>\n",
       "      <td>&lt;IGGIHGG&gt;GEGBGI8GII@GIGG</td>\n",
       "    </tr>\n",
       "    <tr>\n",
       "      <th>80</th>\n",
       "      <td>chr13</td>\n",
       "      <td>48691385</td>\n",
       "      <td>N</td>\n",
       "      <td>24</td>\n",
       "      <td>cccccccccccccccccccccccc</td>\n",
       "      <td>BIGGIBDD?GEGBEI=GIIBGIGG</td>\n",
       "    </tr>\n",
       "    <tr>\n",
       "      <th>81</th>\n",
       "      <td>chr13</td>\n",
       "      <td>48691386</td>\n",
       "      <td>N</td>\n",
       "      <td>24</td>\n",
       "      <td>a$a$a$a$a$a$a$a$a$a$a$a$a$a$a$a$a$a$a$a$a$a$a$a$</td>\n",
       "      <td>EIGGIFDECGFGFGI2BIIDGIGG</td>\n",
       "    </tr>\n",
       "  </tbody>\n",
       "</table>\n",
       "</div>"
      ],
      "text/plain": [
       "    chrom       pos _ref  count  \\\n",
       "77  chr13  48691382    N     24   \n",
       "78  chr13  48691383    N     24   \n",
       "79  chr13  48691384    N     24   \n",
       "80  chr13  48691385    N     24   \n",
       "81  chr13  48691386    N     24   \n",
       "\n",
       "                                           basereads                     quals  \n",
       "77                          cccccccccccccccccccccccc  ?IEGIHGG?GEGEBI=GIIDEIGG  \n",
       "78                          cccccccccccccccccccccccc  EIGGIGGGAGFGFGI=GIIDGIGG  \n",
       "79                          tttttttttttttttttttttttt  <IGGIHGG>GEGBGI8GII@GIGG  \n",
       "80                          cccccccccccccccccccccccc  BIGGIBDD?GEGBEI=GIIBGIGG  \n",
       "81  a$a$a$a$a$a$a$a$a$a$a$a$a$a$a$a$a$a$a$a$a$a$a$a$  EIGGIFDECGFGFGI2BIIDGIGG  "
      ]
     },
     "execution_count": 33,
     "metadata": {},
     "output_type": "execute_result"
    }
   ],
   "source": [
    "import pandas as pd\n",
    "\n",
    "pileup = pd.read_csv('CLIP-let7f-1-gene.pileup', sep='\\t', names=['chrom', 'pos', '_ref', 'count', 'basereads', 'quals'])\n",
    "pileup.tail()"
   ]
  },
  {
   "cell_type": "code",
   "execution_count": 45,
   "metadata": {},
   "outputs": [
    {
     "data": {
      "text/html": [
       "<div>\n",
       "<style scoped>\n",
       "    .dataframe tbody tr th:only-of-type {\n",
       "        vertical-align: middle;\n",
       "    }\n",
       "\n",
       "    .dataframe tbody tr th {\n",
       "        vertical-align: top;\n",
       "    }\n",
       "\n",
       "    .dataframe thead th {\n",
       "        text-align: right;\n",
       "    }\n",
       "</style>\n",
       "<table border=\"1\" class=\"dataframe\">\n",
       "  <thead>\n",
       "    <tr style=\"text-align: right;\">\n",
       "      <th></th>\n",
       "      <th>chrom</th>\n",
       "      <th>pos</th>\n",
       "      <th>_ref</th>\n",
       "      <th>count</th>\n",
       "      <th>basereads</th>\n",
       "      <th>quals</th>\n",
       "    </tr>\n",
       "  </thead>\n",
       "  <tbody>\n",
       "    <tr>\n",
       "      <th>82</th>\n",
       "      <td>chr13</td>\n",
       "      <td>48689570</td>\n",
       "      <td>N</td>\n",
       "      <td>5</td>\n",
       "      <td>aaaaa</td>\n",
       "      <td>EDECD</td>\n",
       "    </tr>\n",
       "    <tr>\n",
       "      <th>83</th>\n",
       "      <td>chr13</td>\n",
       "      <td>48689571</td>\n",
       "      <td>N</td>\n",
       "      <td>6</td>\n",
       "      <td>cccccc</td>\n",
       "      <td>:GGIGG</td>\n",
       "    </tr>\n",
       "    <tr>\n",
       "      <th>84</th>\n",
       "      <td>chr13</td>\n",
       "      <td>48689572</td>\n",
       "      <td>N</td>\n",
       "      <td>6</td>\n",
       "      <td>cccccc</td>\n",
       "      <td>:GGIGG</td>\n",
       "    </tr>\n",
       "    <tr>\n",
       "      <th>85</th>\n",
       "      <td>chr13</td>\n",
       "      <td>48689573</td>\n",
       "      <td>N</td>\n",
       "      <td>6</td>\n",
       "      <td>tttttt</td>\n",
       "      <td>5GGIGG</td>\n",
       "    </tr>\n",
       "    <tr>\n",
       "      <th>86</th>\n",
       "      <td>chr13</td>\n",
       "      <td>48689574</td>\n",
       "      <td>N</td>\n",
       "      <td>6</td>\n",
       "      <td>c$c$c$c$c$c$</td>\n",
       "      <td>;GGIGG</td>\n",
       "    </tr>\n",
       "  </tbody>\n",
       "</table>\n",
       "</div>"
      ],
      "text/plain": [
       "    chrom       pos _ref  count     basereads   quals\n",
       "82  chr13  48689570    N      5         aaaaa   EDECD\n",
       "83  chr13  48689571    N      6        cccccc  :GGIGG\n",
       "84  chr13  48689572    N      6        cccccc  :GGIGG\n",
       "85  chr13  48689573    N      6        tttttt  5GGIGG\n",
       "86  chr13  48689574    N      6  c$c$c$c$c$c$  ;GGIGG"
      ]
     },
     "execution_count": 45,
     "metadata": {},
     "output_type": "execute_result"
    }
   ],
   "source": [
    "import pandas as pd\n",
    "\n",
    "pileup = pd.read_csv('CLIP-let7d-gene.pileup', sep='\\t', names=['chrom', 'pos', '_ref', 'count', 'basereads', 'quals'])\n",
    "pileup.tail()"
   ]
  },
  {
   "cell_type": "markdown",
   "metadata": {
    "id": "DOM-v48vMTQ-"
   },
   "source": [
    "여기서 pileup에서 계산에 사용할 것은 match와 substitution만입니다. 나머지에 해당하는 tag들은 제거합니다.\n",
    "\n",
    "R을 쓰시는 분들은 R로 보내서 작업하셔도 됩니다."
   ]
  },
  {
   "cell_type": "code",
   "execution_count": 19,
   "metadata": {
    "id": "qm25CsvBILug"
   },
   "outputs": [],
   "source": [
    "import re\n",
    "toremove = re.compile('[<>$*#^]')\n",
    "pileup['matches'] = pileup['basereads'].apply(lambda x: toremove.sub('', x))"
   ]
  },
  {
   "cell_type": "code",
   "execution_count": 20,
   "metadata": {
    "id": "uXYF___MILrK"
   },
   "outputs": [
    {
     "data": {
      "text/html": [
       "<div>\n",
       "<style scoped>\n",
       "    .dataframe tbody tr th:only-of-type {\n",
       "        vertical-align: middle;\n",
       "    }\n",
       "\n",
       "    .dataframe tbody tr th {\n",
       "        vertical-align: top;\n",
       "    }\n",
       "\n",
       "    .dataframe thead th {\n",
       "        text-align: right;\n",
       "    }\n",
       "</style>\n",
       "<table border=\"1\" class=\"dataframe\">\n",
       "  <thead>\n",
       "    <tr style=\"text-align: right;\">\n",
       "      <th></th>\n",
       "      <th>chrom</th>\n",
       "      <th>pos</th>\n",
       "      <th>matches</th>\n",
       "    </tr>\n",
       "  </thead>\n",
       "  <tbody>\n",
       "    <tr>\n",
       "      <th>0</th>\n",
       "      <td>chr9</td>\n",
       "      <td>106056039</td>\n",
       "      <td></td>\n",
       "    </tr>\n",
       "    <tr>\n",
       "      <th>1</th>\n",
       "      <td>chr9</td>\n",
       "      <td>106056040</td>\n",
       "      <td></td>\n",
       "    </tr>\n",
       "    <tr>\n",
       "      <th>2</th>\n",
       "      <td>chr9</td>\n",
       "      <td>106056041</td>\n",
       "      <td></td>\n",
       "    </tr>\n",
       "    <tr>\n",
       "      <th>3</th>\n",
       "      <td>chr9</td>\n",
       "      <td>106056042</td>\n",
       "      <td></td>\n",
       "    </tr>\n",
       "    <tr>\n",
       "      <th>4</th>\n",
       "      <td>chr9</td>\n",
       "      <td>106056043</td>\n",
       "      <td></td>\n",
       "    </tr>\n",
       "    <tr>\n",
       "      <th>...</th>\n",
       "      <td>...</td>\n",
       "      <td>...</td>\n",
       "      <td>...</td>\n",
       "    </tr>\n",
       "    <tr>\n",
       "      <th>83</th>\n",
       "      <td>chr9</td>\n",
       "      <td>106056122</td>\n",
       "      <td>CCCCCCCCCCCCCCCCCCCCCCCCCCCCCCCCCCCCCCCCCCCCCC...</td>\n",
       "    </tr>\n",
       "    <tr>\n",
       "      <th>84</th>\n",
       "      <td>chr9</td>\n",
       "      <td>106056123</td>\n",
       "      <td>CCCCCCCCCCCCCCCCCCCCCC</td>\n",
       "    </tr>\n",
       "    <tr>\n",
       "      <th>85</th>\n",
       "      <td>chr9</td>\n",
       "      <td>106056124</td>\n",
       "      <td>AAAAAAAAAAAAAAAAAAAAAA</td>\n",
       "    </tr>\n",
       "    <tr>\n",
       "      <th>86</th>\n",
       "      <td>chr9</td>\n",
       "      <td>106056125</td>\n",
       "      <td>GGGGGGGGGGGGGGGGGGGGGG</td>\n",
       "    </tr>\n",
       "    <tr>\n",
       "      <th>87</th>\n",
       "      <td>chr9</td>\n",
       "      <td>106056126</td>\n",
       "      <td>GGGGGGGGGGGGGGGGGGGGG</td>\n",
       "    </tr>\n",
       "  </tbody>\n",
       "</table>\n",
       "<p>88 rows × 3 columns</p>\n",
       "</div>"
      ],
      "text/plain": [
       "   chrom        pos                                            matches\n",
       "0   chr9  106056039                                                   \n",
       "1   chr9  106056040                                                   \n",
       "2   chr9  106056041                                                   \n",
       "3   chr9  106056042                                                   \n",
       "4   chr9  106056043                                                   \n",
       "..   ...        ...                                                ...\n",
       "83  chr9  106056122  CCCCCCCCCCCCCCCCCCCCCCCCCCCCCCCCCCCCCCCCCCCCCC...\n",
       "84  chr9  106056123                             CCCCCCCCCCCCCCCCCCCCCC\n",
       "85  chr9  106056124                             AAAAAAAAAAAAAAAAAAAAAA\n",
       "86  chr9  106056125                             GGGGGGGGGGGGGGGGGGGGGG\n",
       "87  chr9  106056126                              GGGGGGGGGGGGGGGGGGGGG\n",
       "\n",
       "[88 rows x 3 columns]"
      ]
     },
     "execution_count": 20,
     "metadata": {},
     "output_type": "execute_result"
    }
   ],
   "source": [
    "pileup[['chrom', 'pos', 'matches']]"
   ]
  },
  {
   "cell_type": "code",
   "execution_count": 21,
   "metadata": {
    "id": "k55NUm9OILhw"
   },
   "outputs": [
    {
     "data": {
      "text/plain": [
       "'GGGGGGAAAAAAAAGGGGGAAAAAAGCCGCAGGATGAGGTGATAAGGGAGGGGTGAAGGGCGGTGAAGGGGAAAAGAGAAAGAAAAATAAAGGGGGAGTGGGAGGAAGAAGAGAATA'"
      ]
     },
     "execution_count": 21,
     "metadata": {},
     "output_type": "execute_result"
    }
   ],
   "source": [
    "pileup[pileup['pos'] == 106056094].iloc[0]['matches']"
   ]
  },
  {
   "cell_type": "markdown",
   "metadata": {
    "id": "vx_LUBFuLR6-"
   },
   "source": [
    "처리하는 도중에 matches에서 뜻밖의 예외상황이 있을 수 있습니다.\n",
    "예외상황 중 결과에 영향을 미치지 않는 패턴은 미리 제거하고 처리하면 편리합니다."
   ]
  },
  {
   "cell_type": "code",
   "execution_count": 34,
   "metadata": {},
   "outputs": [],
   "source": [
    "pileup['matches'] = pileup['basereads'].apply(lambda x: toremove.sub('', x))"
   ]
  },
  {
   "cell_type": "code",
   "execution_count": 35,
   "metadata": {},
   "outputs": [
    {
     "data": {
      "text/html": [
       "<div>\n",
       "<style scoped>\n",
       "    .dataframe tbody tr th:only-of-type {\n",
       "        vertical-align: middle;\n",
       "    }\n",
       "\n",
       "    .dataframe tbody tr th {\n",
       "        vertical-align: top;\n",
       "    }\n",
       "\n",
       "    .dataframe thead th {\n",
       "        text-align: right;\n",
       "    }\n",
       "</style>\n",
       "<table border=\"1\" class=\"dataframe\">\n",
       "  <thead>\n",
       "    <tr style=\"text-align: right;\">\n",
       "      <th></th>\n",
       "      <th>chrom</th>\n",
       "      <th>pos</th>\n",
       "      <th>matches</th>\n",
       "    </tr>\n",
       "  </thead>\n",
       "  <tbody>\n",
       "    <tr>\n",
       "      <th>0</th>\n",
       "      <td>chr13</td>\n",
       "      <td>48691305</td>\n",
       "      <td>cccccccccccccccccccccccccccccccccccccccccccccc...</td>\n",
       "    </tr>\n",
       "    <tr>\n",
       "      <th>1</th>\n",
       "      <td>chr13</td>\n",
       "      <td>48691306</td>\n",
       "      <td>tttttttttttttttttttttttttttttttttttttttttttttt...</td>\n",
       "    </tr>\n",
       "    <tr>\n",
       "      <th>2</th>\n",
       "      <td>chr13</td>\n",
       "      <td>48691307</td>\n",
       "      <td>cccccccccccccccccccccccccccccccccccccccccccccc...</td>\n",
       "    </tr>\n",
       "    <tr>\n",
       "      <th>3</th>\n",
       "      <td>chr13</td>\n",
       "      <td>48691308</td>\n",
       "      <td>aaaaaaaaaaaaaaaaaaaaaaaaaaaaaaaaaaaaaaaaaaaaaa...</td>\n",
       "    </tr>\n",
       "    <tr>\n",
       "      <th>4</th>\n",
       "      <td>chr13</td>\n",
       "      <td>48691309</td>\n",
       "      <td>gggggggggggggggggggggggggggggggggggggggggggggg...</td>\n",
       "    </tr>\n",
       "    <tr>\n",
       "      <th>...</th>\n",
       "      <td>...</td>\n",
       "      <td>...</td>\n",
       "      <td>...</td>\n",
       "    </tr>\n",
       "    <tr>\n",
       "      <th>77</th>\n",
       "      <td>chr13</td>\n",
       "      <td>48691382</td>\n",
       "      <td>cccccccccccccccccccccccc</td>\n",
       "    </tr>\n",
       "    <tr>\n",
       "      <th>78</th>\n",
       "      <td>chr13</td>\n",
       "      <td>48691383</td>\n",
       "      <td>cccccccccccccccccccccccc</td>\n",
       "    </tr>\n",
       "    <tr>\n",
       "      <th>79</th>\n",
       "      <td>chr13</td>\n",
       "      <td>48691384</td>\n",
       "      <td>tttttttttttttttttttttttt</td>\n",
       "    </tr>\n",
       "    <tr>\n",
       "      <th>80</th>\n",
       "      <td>chr13</td>\n",
       "      <td>48691385</td>\n",
       "      <td>cccccccccccccccccccccccc</td>\n",
       "    </tr>\n",
       "    <tr>\n",
       "      <th>81</th>\n",
       "      <td>chr13</td>\n",
       "      <td>48691386</td>\n",
       "      <td>aaaaaaaaaaaaaaaaaaaaaaaa</td>\n",
       "    </tr>\n",
       "  </tbody>\n",
       "</table>\n",
       "<p>82 rows × 3 columns</p>\n",
       "</div>"
      ],
      "text/plain": [
       "    chrom       pos                                            matches\n",
       "0   chr13  48691305  cccccccccccccccccccccccccccccccccccccccccccccc...\n",
       "1   chr13  48691306  tttttttttttttttttttttttttttttttttttttttttttttt...\n",
       "2   chr13  48691307  cccccccccccccccccccccccccccccccccccccccccccccc...\n",
       "3   chr13  48691308  aaaaaaaaaaaaaaaaaaaaaaaaaaaaaaaaaaaaaaaaaaaaaa...\n",
       "4   chr13  48691309  gggggggggggggggggggggggggggggggggggggggggggggg...\n",
       "..    ...       ...                                                ...\n",
       "77  chr13  48691382                           cccccccccccccccccccccccc\n",
       "78  chr13  48691383                           cccccccccccccccccccccccc\n",
       "79  chr13  48691384                           tttttttttttttttttttttttt\n",
       "80  chr13  48691385                           cccccccccccccccccccccccc\n",
       "81  chr13  48691386                           aaaaaaaaaaaaaaaaaaaaaaaa\n",
       "\n",
       "[82 rows x 3 columns]"
      ]
     },
     "execution_count": 35,
     "metadata": {},
     "output_type": "execute_result"
    }
   ],
   "source": [
    "pileup[['chrom', 'pos', 'matches']]"
   ]
  },
  {
   "cell_type": "code",
   "execution_count": 46,
   "metadata": {},
   "outputs": [],
   "source": [
    "pileup['matches'] = pileup['basereads'].apply(lambda x: toremove.sub('', x))"
   ]
  },
  {
   "cell_type": "code",
   "execution_count": 47,
   "metadata": {},
   "outputs": [
    {
     "data": {
      "text/html": [
       "<div>\n",
       "<style scoped>\n",
       "    .dataframe tbody tr th:only-of-type {\n",
       "        vertical-align: middle;\n",
       "    }\n",
       "\n",
       "    .dataframe tbody tr th {\n",
       "        vertical-align: top;\n",
       "    }\n",
       "\n",
       "    .dataframe thead th {\n",
       "        text-align: right;\n",
       "    }\n",
       "</style>\n",
       "<table border=\"1\" class=\"dataframe\">\n",
       "  <thead>\n",
       "    <tr style=\"text-align: right;\">\n",
       "      <th></th>\n",
       "      <th>chrom</th>\n",
       "      <th>pos</th>\n",
       "      <th>matches</th>\n",
       "    </tr>\n",
       "  </thead>\n",
       "  <tbody>\n",
       "    <tr>\n",
       "      <th>0</th>\n",
       "      <td>chr13</td>\n",
       "      <td>48689488</td>\n",
       "      <td>GaIaHaIaHaIaIaIaGaIaIaIaIaIaHaIaGaGaGaIaEaDaHaGa</td>\n",
       "    </tr>\n",
       "    <tr>\n",
       "      <th>1</th>\n",
       "      <td>chr13</td>\n",
       "      <td>48689489</td>\n",
       "      <td>aaaaaaaaaaaaaaaaaaaaaaaaaIaHaIaGaGaHaIaIaGaGaI...</td>\n",
       "    </tr>\n",
       "    <tr>\n",
       "      <th>2</th>\n",
       "      <td>chr13</td>\n",
       "      <td>48689490</td>\n",
       "      <td>tttttttttttttttttttttttttttttttttttttttttttttt...</td>\n",
       "    </tr>\n",
       "    <tr>\n",
       "      <th>3</th>\n",
       "      <td>chr13</td>\n",
       "      <td>48689491</td>\n",
       "      <td>aaaaaaaaaaaaaaaaaaaaaaaaaaaaaaaaaaaaaaaaaaaaaa...</td>\n",
       "    </tr>\n",
       "    <tr>\n",
       "      <th>4</th>\n",
       "      <td>chr13</td>\n",
       "      <td>48689492</td>\n",
       "      <td>aaaaaaaaaaaaaaaaaaaaaaaaaaaaaaaaaaaaaaaaaaaaaa...</td>\n",
       "    </tr>\n",
       "    <tr>\n",
       "      <th>...</th>\n",
       "      <td>...</td>\n",
       "      <td>...</td>\n",
       "      <td>...</td>\n",
       "    </tr>\n",
       "    <tr>\n",
       "      <th>82</th>\n",
       "      <td>chr13</td>\n",
       "      <td>48689570</td>\n",
       "      <td>aaaaa</td>\n",
       "    </tr>\n",
       "    <tr>\n",
       "      <th>83</th>\n",
       "      <td>chr13</td>\n",
       "      <td>48689571</td>\n",
       "      <td>cccccc</td>\n",
       "    </tr>\n",
       "    <tr>\n",
       "      <th>84</th>\n",
       "      <td>chr13</td>\n",
       "      <td>48689572</td>\n",
       "      <td>cccccc</td>\n",
       "    </tr>\n",
       "    <tr>\n",
       "      <th>85</th>\n",
       "      <td>chr13</td>\n",
       "      <td>48689573</td>\n",
       "      <td>tttttt</td>\n",
       "    </tr>\n",
       "    <tr>\n",
       "      <th>86</th>\n",
       "      <td>chr13</td>\n",
       "      <td>48689574</td>\n",
       "      <td>cccccc</td>\n",
       "    </tr>\n",
       "  </tbody>\n",
       "</table>\n",
       "<p>87 rows × 3 columns</p>\n",
       "</div>"
      ],
      "text/plain": [
       "    chrom       pos                                            matches\n",
       "0   chr13  48689488   GaIaHaIaHaIaIaIaGaIaIaIaIaIaHaIaGaGaGaIaEaDaHaGa\n",
       "1   chr13  48689489  aaaaaaaaaaaaaaaaaaaaaaaaaIaHaIaGaGaHaIaIaGaGaI...\n",
       "2   chr13  48689490  tttttttttttttttttttttttttttttttttttttttttttttt...\n",
       "3   chr13  48689491  aaaaaaaaaaaaaaaaaaaaaaaaaaaaaaaaaaaaaaaaaaaaaa...\n",
       "4   chr13  48689492  aaaaaaaaaaaaaaaaaaaaaaaaaaaaaaaaaaaaaaaaaaaaaa...\n",
       "..    ...       ...                                                ...\n",
       "82  chr13  48689570                                              aaaaa\n",
       "83  chr13  48689571                                             cccccc\n",
       "84  chr13  48689572                                             cccccc\n",
       "85  chr13  48689573                                             tttttt\n",
       "86  chr13  48689574                                             cccccc\n",
       "\n",
       "[87 rows x 3 columns]"
      ]
     },
     "execution_count": 47,
     "metadata": {},
     "output_type": "execute_result"
    }
   ],
   "source": [
    "pileup[['chrom', 'pos', 'matches']]"
   ]
  },
  {
   "cell_type": "markdown",
   "metadata": {
    "id": "NrgJiS2iRhIn"
   },
   "source": [
    "자 이제 데이터 준비가 대충 끝났습니다. 다음 순서로 진행해 보세요. (1-4번 단계는 R을 쓰시는 분들은 R로 보내서 작업하셔도 됩니다.)\n",
    "\n",
    "1. 각 position별로 base수를 셉니다.\n",
    "1. 각 position별로 Shannon entropy를 계산합니다.\n",
    "1. 계산한 Shannon entropy를 [bedgraph format](https://genome.ucsc.edu/goldenPath/help/bedgraph.html)으로 출력합니다. 말은 복잡해도 실제로는 간단합니다. 4칸짜리를 만드시면 됩니다.\n",
    "1. 결과 파일을 본인의 Google Drive에서 가져옵니다.\n",
    "1. [UCSC Genome Browser](http://genome.ucsc.edu/cgi-bin/hgTracks?db=mm39&lastVirtModeType=default&lastVirtModeExtraState=&virtModeType=default&virtMode=0&nonVirtPosition=&position=chr9%3A106056039-106056126)에 접속해서 Genome은 mm39로 선택합니다.\n",
    "1. 그래프 아랫쪽의 add custom tracks 버튼을 누릅니다.\n",
    "1. Paste URLs or data 옆의 Choose File 버튼을 누르고 우리가 만든 bedgraph 파일을 업로드 합니다.\n",
    "1. 그리고 이리 저리 감상해 보다가 View 메뉴의 PDF/PS 를 눌러서 인증샷을 한 번 찍습니다.\n",
    "1. Mirlet7d와 Mirlet7f-1도 한 번 해 봅니다."
   ]
  },
  {
   "cell_type": "code",
   "execution_count": 48,
   "metadata": {
    "id": "_onzef2-Mr9_"
   },
   "outputs": [
    {
     "name": "stdout",
     "output_type": "stream",
     "text": [
      "Step 1 done — preview:\n"
     ]
    },
    {
     "data": {
      "text/html": [
       "<div>\n",
       "<style scoped>\n",
       "    .dataframe tbody tr th:only-of-type {\n",
       "        vertical-align: middle;\n",
       "    }\n",
       "\n",
       "    .dataframe tbody tr th {\n",
       "        vertical-align: top;\n",
       "    }\n",
       "\n",
       "    .dataframe thead th {\n",
       "        text-align: right;\n",
       "    }\n",
       "</style>\n",
       "<table border=\"1\" class=\"dataframe\">\n",
       "  <thead>\n",
       "    <tr style=\"text-align: right;\">\n",
       "      <th></th>\n",
       "      <th>chrom</th>\n",
       "      <th>pos</th>\n",
       "      <th>A_cnt</th>\n",
       "      <th>C_cnt</th>\n",
       "      <th>G_cnt</th>\n",
       "      <th>T_cnt</th>\n",
       "      <th>N_cnt</th>\n",
       "    </tr>\n",
       "  </thead>\n",
       "  <tbody>\n",
       "    <tr>\n",
       "      <th>0</th>\n",
       "      <td>chr13</td>\n",
       "      <td>48689488</td>\n",
       "      <td>24</td>\n",
       "      <td>0</td>\n",
       "      <td>6</td>\n",
       "      <td>0</td>\n",
       "      <td>0</td>\n",
       "    </tr>\n",
       "    <tr>\n",
       "      <th>1</th>\n",
       "      <td>chr13</td>\n",
       "      <td>48689489</td>\n",
       "      <td>53</td>\n",
       "      <td>0</td>\n",
       "      <td>6</td>\n",
       "      <td>0</td>\n",
       "      <td>0</td>\n",
       "    </tr>\n",
       "    <tr>\n",
       "      <th>2</th>\n",
       "      <td>chr13</td>\n",
       "      <td>48689490</td>\n",
       "      <td>0</td>\n",
       "      <td>0</td>\n",
       "      <td>5</td>\n",
       "      <td>69</td>\n",
       "      <td>0</td>\n",
       "    </tr>\n",
       "    <tr>\n",
       "      <th>3</th>\n",
       "      <td>chr13</td>\n",
       "      <td>48689491</td>\n",
       "      <td>105</td>\n",
       "      <td>0</td>\n",
       "      <td>11</td>\n",
       "      <td>0</td>\n",
       "      <td>0</td>\n",
       "    </tr>\n",
       "    <tr>\n",
       "      <th>4</th>\n",
       "      <td>chr13</td>\n",
       "      <td>48689492</td>\n",
       "      <td>105</td>\n",
       "      <td>0</td>\n",
       "      <td>0</td>\n",
       "      <td>0</td>\n",
       "      <td>0</td>\n",
       "    </tr>\n",
       "  </tbody>\n",
       "</table>\n",
       "</div>"
      ],
      "text/plain": [
       "   chrom       pos  A_cnt  C_cnt  G_cnt  T_cnt  N_cnt\n",
       "0  chr13  48689488     24      0      6      0      0\n",
       "1  chr13  48689489     53      0      6      0      0\n",
       "2  chr13  48689490      0      0      5     69      0\n",
       "3  chr13  48689491    105      0     11      0      0\n",
       "4  chr13  48689492    105      0      0      0      0"
      ]
     },
     "metadata": {},
     "output_type": "display_data"
    }
   ],
   "source": [
    "import collections\n",
    "\n",
    "def count_bases(row):\n",
    "    ref = row['_ref'].upper()              # 참조 염기\n",
    "    cnt = collections.Counter()\n",
    "\n",
    "    for b in row['matches']:\n",
    "        if b in '.,':                      # ref match\n",
    "            cnt[ref] += 1\n",
    "        else:\n",
    "            b = b.upper()\n",
    "            if b in 'ACGTN':\n",
    "                cnt[b] += 1\n",
    "    return pd.Series({f'{b}_cnt': cnt.get(b, 0) for b in 'ACGTN'})\n",
    "\n",
    "base_counts = pileup.apply(count_bases, axis=1)\n",
    "\n",
    "pileup_counts = pd.concat(\n",
    "    [pileup[['chrom', 'pos']], base_counts],\n",
    "    axis=1\n",
    ")\n",
    "print(\"Step 1 done — preview:\")\n",
    "display(pileup_counts.head())              # --- OK"
   ]
  },
  {
   "cell_type": "code",
   "execution_count": 49,
   "metadata": {},
   "outputs": [
    {
     "name": "stdout",
     "output_type": "stream",
     "text": [
      "Step 2 done — entropy added\n"
     ]
    }
   ],
   "source": [
    "import math\n",
    "\n",
    "def shannon(row):\n",
    "    total = sum(row[f'{b}_cnt'] for b in 'ACGTN')\n",
    "    if total == 0:\n",
    "        return 0\n",
    "    return -sum(\n",
    "        (row[f'{b}_cnt']/total) * math.log2(row[f'{b}_cnt']/total)\n",
    "        for b in 'ACGTN' if row[f'{b}_cnt'] > 0\n",
    "    )\n",
    "\n",
    "pileup_counts['entropy'] = pileup_counts.apply(shannon, axis=1)\n",
    "print(\"Step 2 done — entropy added\")       # --- OK\n"
   ]
  },
  {
   "cell_type": "code",
   "execution_count": 50,
   "metadata": {
    "scrolled": true
   },
   "outputs": [
    {
     "name": "stdout",
     "output_type": "stream",
     "text": [
      "Step 3 done — saved: Mirlet7d_entropy.bedGraph\n"
     ]
    }
   ],
   "source": [
    "bedgraph = pileup_counts.copy()\n",
    "bedgraph['start'] = bedgraph['pos'] - 1    # bed 0-based\n",
    "bedgraph['end']   = bedgraph['pos']\n",
    "\n",
    "bedgraph_out = bedgraph[['chrom', 'start', 'end', 'entropy']]\n",
    "outfile = 'Mirlet7d_entropy.bedGraph'\n",
    "bedgraph_out.to_csv(outfile, sep='\\t', header=False, index=False)\n",
    "print(\"Step 3 done — saved:\", outfile)     # --- OK"
   ]
  },
  {
   "cell_type": "code",
   "execution_count": 1,
   "metadata": {},
   "outputs": [
    {
     "name": "stdout",
     "output_type": "stream",
     "text": [
      "kernel test\n"
     ]
    }
   ],
   "source": [
    "print(\"kernel test\")"
   ]
  },
  {
   "cell_type": "code",
   "execution_count": 2,
   "metadata": {},
   "outputs": [
    {
     "name": "stdout",
     "output_type": "stream",
     "text": [
      "Mismatch (CIMS) 후보 위치 수: 82\n"
     ]
    },
    {
     "data": {
      "text/html": [
       "<div>\n",
       "<style scoped>\n",
       "    .dataframe tbody tr th:only-of-type {\n",
       "        vertical-align: middle;\n",
       "    }\n",
       "\n",
       "    .dataframe tbody tr th {\n",
       "        vertical-align: top;\n",
       "    }\n",
       "\n",
       "    .dataframe thead th {\n",
       "        text-align: right;\n",
       "    }\n",
       "</style>\n",
       "<table border=\"1\" class=\"dataframe\">\n",
       "  <thead>\n",
       "    <tr style=\"text-align: right;\">\n",
       "      <th></th>\n",
       "      <th>chrom</th>\n",
       "      <th>pos</th>\n",
       "      <th>_ref</th>\n",
       "      <th>matches</th>\n",
       "    </tr>\n",
       "  </thead>\n",
       "  <tbody>\n",
       "    <tr>\n",
       "      <th>6</th>\n",
       "      <td>chr9</td>\n",
       "      <td>106056045</td>\n",
       "      <td>N</td>\n",
       "      <td>HTDTITGTHTHTITGTITHTHTITITHTHTGTHTGTHTHTHTITGT</td>\n",
       "    </tr>\n",
       "    <tr>\n",
       "      <th>7</th>\n",
       "      <td>chr9</td>\n",
       "      <td>106056046</td>\n",
       "      <td>N</td>\n",
       "      <td>GGGGGGGGGGGGGGGGGGGGGGG</td>\n",
       "    </tr>\n",
       "    <tr>\n",
       "      <th>8</th>\n",
       "      <td>chr9</td>\n",
       "      <td>106056047</td>\n",
       "      <td>N</td>\n",
       "      <td>AAAAAAAAAAAAAAAAAAAAAAA</td>\n",
       "    </tr>\n",
       "    <tr>\n",
       "      <th>9</th>\n",
       "      <td>chr9</td>\n",
       "      <td>106056048</td>\n",
       "      <td>N</td>\n",
       "      <td>GGGGGGGGGGGGGGGGGGGGGGG</td>\n",
       "    </tr>\n",
       "    <tr>\n",
       "      <th>10</th>\n",
       "      <td>chr9</td>\n",
       "      <td>106056049</td>\n",
       "      <td>N</td>\n",
       "      <td>GGGGGGGGGGGGGGGGGGGGGGG</td>\n",
       "    </tr>\n",
       "  </tbody>\n",
       "</table>\n",
       "</div>"
      ],
      "text/plain": [
       "   chrom        pos _ref                                         matches\n",
       "6   chr9  106056045    N  HTDTITGTHTHTITGTITHTHTITITHTHTGTHTGTHTHTHTITGT\n",
       "7   chr9  106056046    N                         GGGGGGGGGGGGGGGGGGGGGGG\n",
       "8   chr9  106056047    N                         AAAAAAAAAAAAAAAAAAAAAAA\n",
       "9   chr9  106056048    N                         GGGGGGGGGGGGGGGGGGGGGGG\n",
       "10  chr9  106056049    N                         GGGGGGGGGGGGGGGGGGGGGGG"
      ]
     },
     "metadata": {},
     "output_type": "display_data"
    }
   ],
   "source": [
    "import pandas as pd\n",
    "\n",
    "# pileup 파일 불러오기\n",
    "pileup = pd.read_csv(\"CLIP-let7g-gene.pileup\", sep=\"\\t\", header=None,\n",
    "                     names=[\"chrom\", \"pos\", \"_ref\", \"count\", \"basereads\", \"quals\"])\n",
    "\n",
    "# ref와 매칭된 베이스들 중 mismatches만 남긴 새로운 열 생성\n",
    "import re\n",
    "\n",
    "# A. 'matches' 열 만들기: matches = basereads에서 특수기호 제거\n",
    "toremove = re.compile(r'[<>$*#^]')\n",
    "pileup[\"matches\"] = pileup[\"basereads\"].apply(lambda x: toremove.sub(\"\", x))\n",
    "\n",
    "# B. mismatch 있는 위치만 필터링\n",
    "def is_mismatch(x):\n",
    "    return any(b not in '.,' for b in x)\n",
    "\n",
    "pileup_mismatches = pileup[pileup[\"matches\"].apply(is_mismatch)]\n",
    "\n",
    "# C. mismatch 있는 위치들 확인\n",
    "print(\"Mismatch (CIMS) 후보 위치 수:\", len(pileup_mismatches))\n",
    "display(pileup_mismatches[[\"chrom\", \"pos\", \"_ref\", \"matches\"]].head())"
   ]
  },
  {
   "cell_type": "code",
   "execution_count": 3,
   "metadata": {},
   "outputs": [
    {
     "name": "stdout",
     "output_type": "stream",
     "text": [
      "82개 윈도우가 생성되어 let7g_mismatch_windows.bed 파일로 저장되었습니다.\n"
     ]
    },
    {
     "name": "stderr",
     "output_type": "stream",
     "text": [
      "/tmp/ipykernel_52417/4187615159.py:4: SettingWithCopyWarning: \n",
      "A value is trying to be set on a copy of a slice from a DataFrame.\n",
      "Try using .loc[row_indexer,col_indexer] = value instead\n",
      "\n",
      "See the caveats in the documentation: https://pandas.pydata.org/pandas-docs/stable/user_guide/indexing.html#returning-a-view-versus-a-copy\n",
      "  pileup_mismatches['start'] = pileup_mismatches['pos'] - window_size\n",
      "/tmp/ipykernel_52417/4187615159.py:5: SettingWithCopyWarning: \n",
      "A value is trying to be set on a copy of a slice from a DataFrame.\n",
      "Try using .loc[row_indexer,col_indexer] = value instead\n",
      "\n",
      "See the caveats in the documentation: https://pandas.pydata.org/pandas-docs/stable/user_guide/indexing.html#returning-a-view-versus-a-copy\n",
      "  pileup_mismatches['end'] = pileup_mismatches['pos'] + window_size + 1  # end는 exclusive\n",
      "/tmp/ipykernel_52417/4187615159.py:6: SettingWithCopyWarning: \n",
      "A value is trying to be set on a copy of a slice from a DataFrame.\n",
      "Try using .loc[row_indexer,col_indexer] = value instead\n",
      "\n",
      "See the caveats in the documentation: https://pandas.pydata.org/pandas-docs/stable/user_guide/indexing.html#returning-a-view-versus-a-copy\n",
      "  pileup_mismatches['name'] = ['cims_' + str(i) for i in range(len(pileup_mismatches))]\n"
     ]
    },
    {
     "data": {
      "text/html": [
       "<div>\n",
       "<style scoped>\n",
       "    .dataframe tbody tr th:only-of-type {\n",
       "        vertical-align: middle;\n",
       "    }\n",
       "\n",
       "    .dataframe tbody tr th {\n",
       "        vertical-align: top;\n",
       "    }\n",
       "\n",
       "    .dataframe thead th {\n",
       "        text-align: right;\n",
       "    }\n",
       "</style>\n",
       "<table border=\"1\" class=\"dataframe\">\n",
       "  <thead>\n",
       "    <tr style=\"text-align: right;\">\n",
       "      <th></th>\n",
       "      <th>chrom</th>\n",
       "      <th>start</th>\n",
       "      <th>end</th>\n",
       "      <th>name</th>\n",
       "    </tr>\n",
       "  </thead>\n",
       "  <tbody>\n",
       "    <tr>\n",
       "      <th>6</th>\n",
       "      <td>chr9</td>\n",
       "      <td>106056030</td>\n",
       "      <td>106056061</td>\n",
       "      <td>cims_0</td>\n",
       "    </tr>\n",
       "    <tr>\n",
       "      <th>7</th>\n",
       "      <td>chr9</td>\n",
       "      <td>106056031</td>\n",
       "      <td>106056062</td>\n",
       "      <td>cims_1</td>\n",
       "    </tr>\n",
       "    <tr>\n",
       "      <th>8</th>\n",
       "      <td>chr9</td>\n",
       "      <td>106056032</td>\n",
       "      <td>106056063</td>\n",
       "      <td>cims_2</td>\n",
       "    </tr>\n",
       "    <tr>\n",
       "      <th>9</th>\n",
       "      <td>chr9</td>\n",
       "      <td>106056033</td>\n",
       "      <td>106056064</td>\n",
       "      <td>cims_3</td>\n",
       "    </tr>\n",
       "    <tr>\n",
       "      <th>10</th>\n",
       "      <td>chr9</td>\n",
       "      <td>106056034</td>\n",
       "      <td>106056065</td>\n",
       "      <td>cims_4</td>\n",
       "    </tr>\n",
       "  </tbody>\n",
       "</table>\n",
       "</div>"
      ],
      "text/plain": [
       "   chrom      start        end    name\n",
       "6   chr9  106056030  106056061  cims_0\n",
       "7   chr9  106056031  106056062  cims_1\n",
       "8   chr9  106056032  106056063  cims_2\n",
       "9   chr9  106056033  106056064  cims_3\n",
       "10  chr9  106056034  106056065  cims_4"
      ]
     },
     "execution_count": 3,
     "metadata": {},
     "output_type": "execute_result"
    }
   ],
   "source": [
    "# mismatch 위치를 중심으로 ±15nt 윈도우 생성\n",
    "window_size = 15\n",
    "\n",
    "pileup_mismatches['start'] = pileup_mismatches['pos'] - window_size\n",
    "pileup_mismatches['end'] = pileup_mismatches['pos'] + window_size + 1  # end는 exclusive\n",
    "pileup_mismatches['name'] = ['cims_' + str(i) for i in range(len(pileup_mismatches))]\n",
    "\n",
    "# 필요한 형식만 추출\n",
    "windows = pileup_mismatches[['chrom', 'start', 'end', 'name']].copy()\n",
    "\n",
    "# bed 파일로 저장\n",
    "windows.to_csv(\"let7g_mismatch_windows.bed\", sep='\\t', index=False, header=False)\n",
    "\n",
    "print(f\"{len(windows)}개 윈도우가 생성되어 let7g_mismatch_windows.bed 파일로 저장되었습니다.\")\n",
    "windows.head()"
   ]
  },
  {
   "cell_type": "code",
   "execution_count": 5,
   "metadata": {},
   "outputs": [
    {
     "name": "stdout",
     "output_type": "stream",
     "text": [
      "Collecting biopython\n",
      "  Downloading biopython-1.85-cp311-cp311-manylinux_2_17_x86_64.manylinux2014_x86_64.whl.metadata (13 kB)\n",
      "Requirement already satisfied: numpy in /home/hyeonji/miniconda/envs/bioinfo/lib/python3.11/site-packages (from biopython) (2.2.5)\n",
      "Downloading biopython-1.85-cp311-cp311-manylinux_2_17_x86_64.manylinux2014_x86_64.whl (3.3 MB)\n",
      "\u001b[2K   \u001b[38;2;114;156;31m━━━━━━━━━━━━━━━━━━━━━━━━━━━━━━━━━━━━━━━━\u001b[0m \u001b[32m3.3/3.3 MB\u001b[0m \u001b[31m18.6 MB/s\u001b[0m eta \u001b[36m0:00:00\u001b[0m31m32.8 MB/s\u001b[0m eta \u001b[36m0:00:01\u001b[0m\n",
      "\u001b[?25hInstalling collected packages: biopython\n",
      "Successfully installed biopython-1.85\n"
     ]
    }
   ],
   "source": [
    "!pip install biopython"
   ]
  },
  {
   "cell_type": "code",
   "execution_count": 6,
   "metadata": {},
   "outputs": [
    {
     "name": "stdout",
     "output_type": "stream",
     "text": [
      "cims_0::chr9:106056030-106056061\n",
      "GCCTGATTCCAGGCTGAGGTAGTAGTTTGTA\n",
      "\n",
      "cims_1::chr9:106056031-106056062\n",
      "CCTGATTCCAGGCTGAGGTAGTAGTTTGTAC\n",
      "\n",
      "cims_2::chr9:106056032-106056063\n",
      "CTGATTCCAGGCTGAGGTAGTAGTTTGTACA\n",
      "\n"
     ]
    }
   ],
   "source": [
    "from Bio import SeqIO\n",
    "\n",
    "for record in list(SeqIO.parse(\"let7g_mismatch_windows.fa\", \"fasta\"))[:3]:\n",
    "    print(f\"{record.id}\\n{record.seq}\\n\")"
   ]
  },
  {
   "cell_type": "code",
   "execution_count": 7,
   "metadata": {},
   "outputs": [
    {
     "name": "stdout",
     "output_type": "stream",
     "text": [
      "✅ 2D WC-pair matrix 생성 완료 — shape: (31, 31)\n"
     ]
    }
   ],
   "source": [
    "import numpy as np\n",
    "from Bio import SeqIO\n",
    "\n",
    "# 윈도우 서열 로딩\n",
    "records = list(SeqIO.parse(\"let7g_mismatch_windows.fa\", \"fasta\"))\n",
    "window_len = len(records[0].seq)\n",
    "\n",
    "# 2D matrix 초기화\n",
    "wc_matrix = np.zeros((window_len, window_len), dtype=int)\n",
    "\n",
    "# WC-pair 조건 함수\n",
    "def is_wc_pair(a, b):\n",
    "    pair = {('A', 'U'), ('U', 'A'), ('G', 'C'), ('C', 'G')}\n",
    "    return (a, b) in pair\n",
    "\n",
    "# 윈도우 반복\n",
    "for rec in records:\n",
    "    seq = str(rec.seq).upper()\n",
    "    for i in range(window_len):\n",
    "        for j in range(i+1, window_len):\n",
    "            if is_wc_pair(seq[i], seq[j]):\n",
    "                wc_matrix[i, j] += 1\n",
    "\n",
    "print(\"✅ 2D WC-pair matrix 생성 완료 — shape:\", wc_matrix.shape)\n"
   ]
  },
  {
   "cell_type": "code",
   "execution_count": 8,
   "metadata": {},
   "outputs": [
    {
     "name": "stdout",
     "output_type": "stream",
     "text": [
      "정규화된 WC-pair matrix 완료 — shape: (31, 31)\n"
     ]
    }
   ],
   "source": [
    "import numpy as np\n",
    "\n",
    "# 1. 전체 매트릭스 합\n",
    "total_pairs = wc_matrix.sum()\n",
    "\n",
    "# 2. 매트릭스를 상대적 빈도로 정규화 (0~1 사이)\n",
    "wc_matrix_norm = wc_matrix / total_pairs\n",
    "\n",
    "print(\"정규화된 WC-pair matrix 완료 — shape:\", wc_matrix_norm.shape)\n"
   ]
  },
  {
   "cell_type": "code",
   "execution_count": 10,
   "metadata": {},
   "outputs": [
    {
     "data": {
      "image/png": "[encoded data removed]",
      "text/plain": [
       "<Figure size 1000x800 with 2 Axes>"
      ]
     },
     "metadata": {},
     "output_type": "display_data"
    }
   ],
   "source": [
    "import matplotlib.pyplot as plt\n",
    "import seaborn as sns\n",
    "\n",
    "plt.figure(figsize=(10, 8))\n",
    "sns.heatmap(wc_matrix_norm, cmap=\"YlGnBu\", square=True, cbar_kws={\"label\": \"Normalized Frequency\"})\n",
    "plt.title(\"Watson-Crick Pair Matrix (31x31 window)\")\n",
    "plt.xlabel(\"Position in Window\")\n",
    "plt.ylabel(\"Position in Window\")\n",
    "plt.tight_layout()\n",
    "plt.show()\n"
   ]
  },
  {
   "cell_type": "code",
   "execution_count": 1,
   "metadata": {},
   "outputs": [
    {
     "name": "stdout",
     "output_type": "stream",
     "text": [
      "CLIP-let7f-1-gene.pileup → mismatch 후보 위치 수: 82\n",
      "CLIP-let7d-gene.pileup → mismatch 후보 위치 수: 87\n"
     ]
    }
   ],
   "source": [
    "import pandas as pd\n",
    "import re\n",
    "\n",
    "def extract_mismatch_positions(pileup_path):\n",
    "    \"\"\"\n",
    "    1) pileup 파일을 불러와서\n",
    "    2) 'matches' 열 생성 (basereads에서 특수기호 제거)\n",
    "    3) mismatch 포함된 행만 필터링\n",
    "    4) 반환: pileup_mismatches DataFrame\n",
    "    \"\"\"\n",
    "    cols = [\"chrom\", \"pos\", \"_ref\", \"count\", \"basereads\", \"quals\"]\n",
    "    pileup = pd.read_csv(pileup_path, sep=\"\\t\", header=None, names=cols)\n",
    "\n",
    "    toremove = re.compile(r'[<>$*#^]')\n",
    "    pileup[\"matches\"] = pileup[\"basereads\"].apply(lambda x: toremove.sub(\"\", x))\n",
    "\n",
    "    # '.' 또는 ','가 아닌 문자가 하나라도 있으면 mismatch\n",
    "    pileup[\"mismatch\"] = pileup[\"matches\"].apply(lambda x: any(b not in \".,\" for b in x))\n",
    "    pileup_mismatches = pileup[pileup[\"mismatch\"]].copy()\n",
    "\n",
    "    print(f\"{pileup_path} → mismatch 후보 위치 수: {len(pileup_mismatches)}\")\n",
    "    return pileup_mismatches\n",
    "\n",
    "# let-7f-1과 let-7d 각각에 대해 mismatch 위치 추출\n",
    "pileup_7f1_mismatches = extract_mismatch_positions(\"CLIP-let7f-1-gene.pileup\")\n",
    "pileup_7d_mismatches  = extract_mismatch_positions(\"CLIP-let7d-gene.pileup\")\n"
   ]
  },
  {
   "cell_type": "code",
   "execution_count": 2,
   "metadata": {},
   "outputs": [
    {
     "name": "stdout",
     "output_type": "stream",
     "text": [
      "Saved 82 windows to let7f-1_CIMS_windows.bed\n",
      "Saved 87 windows to let7d_CIMS_windows.bed\n"
     ]
    }
   ],
   "source": [
    "# 윈도우 절반 크기\n",
    "window_half = 15\n",
    "\n",
    "def create_bed_windows(mismatches_df, out_bed_path):\n",
    "    \"\"\"\n",
    "    pileup_mismatches DataFrame에서 pos 기반 ±window_half 생성 → BED로 저장\n",
    "    \"\"\"\n",
    "    df = mismatches_df.copy()\n",
    "    df[\"start\"] = df[\"pos\"] - window_half\n",
    "    df[\"end\"]   = df[\"pos\"] + window_half + 1  # bed는 end exclusive\n",
    "    df = df[df[\"start\"] >= 0]                  # 음수 시작 방지\n",
    "\n",
    "    bed = df[[\"chrom\", \"start\", \"end\"]].copy()\n",
    "    bed[\"name\"] = \"CIMS\"\n",
    "    bed.to_csv(out_bed_path, sep=\"\\t\", header=False, index=False)\n",
    "    print(f\"Saved {len(bed)} windows to {out_bed_path}\")\n",
    "\n",
    "# let-7f-1 윈도우 생성\n",
    "create_bed_windows(pileup_7f1_mismatches, \"let7f-1_CIMS_windows.bed\")\n",
    "\n",
    "# let-7d 윈도우 생성\n",
    "create_bed_windows(pileup_7d_mismatches,  \"let7d_CIMS_windows.bed\")\n"
   ]
  },
  {
   "cell_type": "code",
   "execution_count": 2,
   "metadata": {},
   "outputs": [
    {
     "name": "stdout",
     "output_type": "stream",
     "text": [
      "통합 WC-pair 매트릭스 생성 완료 — shape: (31, 31)\n"
     ]
    }
   ],
   "source": [
    "import numpy as np\n",
    "from Bio import SeqIO\n",
    "\n",
    "# ❶ 통합 FASTA 로딩\n",
    "records = list(SeqIO.parse(\"all_CIMS_windows.fa\", \"fasta\"))\n",
    "window_len = len(records[0].seq)  # 31이어야 함\n",
    "\n",
    "# ❷ 빈 31×31 정수 매트릭스 초기화\n",
    "wc_matrix_all = np.zeros((window_len, window_len), dtype=int)\n",
    "\n",
    "# WC 쌍 판별 함수 (RNA 기준 A–U, G–C)\n",
    "def is_wc_pair(a, b):\n",
    "    return (a, b) in {('A','U'), ('U','A'), ('G','C'), ('C','G')}\n",
    "\n",
    "# ❸ 각 윈도우 순회하며 (i, j)마다 카운트\n",
    "for rec in records:\n",
    "    seq = str(rec.seq).upper().replace('T','U')  # T→U로 변환\n",
    "    for i in range(window_len):\n",
    "        for j in range(i+1, window_len):\n",
    "            if is_wc_pair(seq[i], seq[j]):\n",
    "                wc_matrix_all[i, j] += 1\n",
    "\n",
    "print(\"통합 WC-pair 매트릭스 생성 완료 — shape:\", wc_matrix_all.shape)\n"
   ]
  },
  {
   "cell_type": "code",
   "execution_count": 3,
   "metadata": {},
   "outputs": [
    {
     "name": "stdout",
     "output_type": "stream",
     "text": [
      "Normalized & log2체(el) 매트릭스 생성 완료 — shape: (31, 31)\n"
     ]
    }
   ],
   "source": [
    "# 전체 윈도우 수\n",
    "num_windows = len(records)\n",
    "\n",
    "# ❶ 각 (i,j)쌍의 WC-pair 빈도를 fraction(0~1)으로\n",
    "freq_matrix = wc_matrix_all / num_windows\n",
    "\n",
    "# ❷ 전체 평균(expected frequency)\n",
    "expected = freq_matrix.mean()\n",
    "\n",
    "# ❸ 상대 빈도 (fold-change)\n",
    "rel_matrix = freq_matrix / expected\n",
    "\n",
    "# ❹ log2 변환 (neutral=0, 2x→+1, 0.5x→-1)\n",
    "log2_matrix = np.log2(rel_matrix + 1e-9)  # 아주 작은 값 더해 0 나누기 방지\n",
    "\n",
    "# 확인\n",
    "print(\"Normalized & log2체(el) 매트릭스 생성 완료 — shape:\", log2_matrix.shape)\n"
   ]
  },
  {
   "cell_type": "code",
   "execution_count": 19,
   "metadata": {},
   "outputs": [
    {
     "name": "stdout",
     "output_type": "stream",
     "text": [
      "Requirement already satisfied: matplotlib in /home/hyeonji/miniconda/envs/bioinfo/lib/python3.11/site-packages (3.10.3)\n",
      "Requirement already satisfied: seaborn in /home/hyeonji/miniconda/envs/bioinfo/lib/python3.11/site-packages (0.13.2)\n",
      "Requirement already satisfied: numpy in /home/hyeonji/miniconda/envs/bioinfo/lib/python3.11/site-packages (2.2.5)\n",
      "Requirement already satisfied: contourpy>=1.0.1 in /home/hyeonji/miniconda/envs/bioinfo/lib/python3.11/site-packages (from matplotlib) (1.3.2)\n",
      "Requirement already satisfied: cycler>=0.10 in /home/hyeonji/miniconda/envs/bioinfo/lib/python3.11/site-packages (from matplotlib) (0.12.1)\n",
      "Requirement already satisfied: fonttools>=4.22.0 in /home/hyeonji/miniconda/envs/bioinfo/lib/python3.11/site-packages (from matplotlib) (4.58.1)\n",
      "Requirement already satisfied: kiwisolver>=1.3.1 in /home/hyeonji/miniconda/envs/bioinfo/lib/python3.11/site-packages (from matplotlib) (1.4.8)\n",
      "Requirement already satisfied: packaging>=20.0 in /home/hyeonji/miniconda/envs/bioinfo/lib/python3.11/site-packages (from matplotlib) (25.0)\n",
      "Requirement already satisfied: pillow>=8 in /home/hyeonji/miniconda/envs/bioinfo/lib/python3.11/site-packages (from matplotlib) (11.2.1)\n",
      "Requirement already satisfied: pyparsing>=2.3.1 in /home/hyeonji/miniconda/envs/bioinfo/lib/python3.11/site-packages (from matplotlib) (3.2.3)\n",
      "Requirement already satisfied: python-dateutil>=2.7 in /home/hyeonji/miniconda/envs/bioinfo/lib/python3.11/site-packages (from matplotlib) (2.9.0.post0)\n",
      "Requirement already satisfied: pandas>=1.2 in /home/hyeonji/miniconda/envs/bioinfo/lib/python3.11/site-packages (from seaborn) (2.2.3)\n",
      "Requirement already satisfied: pytz>=2020.1 in /home/hyeonji/miniconda/envs/bioinfo/lib/python3.11/site-packages (from pandas>=1.2->seaborn) (2025.2)\n",
      "Requirement already satisfied: tzdata>=2022.7 in /home/hyeonji/miniconda/envs/bioinfo/lib/python3.11/site-packages (from pandas>=1.2->seaborn) (2025.2)\n",
      "Requirement already satisfied: six>=1.5 in /home/hyeonji/miniconda/envs/bioinfo/lib/python3.11/site-packages (from python-dateutil>=2.7->matplotlib) (1.17.0)\n"
     ]
    }
   ],
   "source": [
    "!pip install matplotlib seaborn numpy"
   ]
  },
  {
   "cell_type": "code",
   "execution_count": 4,
   "metadata": {},
   "outputs": [
    {
     "name": "stdout",
     "output_type": "stream",
     "text": [
      "Loaded 251 windows, each length = 31 nt\n",
      "wc_matrix_all 생성 완료 — shape: (31, 31)\n"
     ]
    }
   ],
   "source": [
    "# ─────────────────────────────────────────────────────────────────\n",
    "# 1) 통합 FASTA 파일을 읽어 와서 records 리스트 생성\n",
    "# ─────────────────────────────────────────────────────────────────\n",
    "\n",
    "from Bio import SeqIO\n",
    "import numpy as np\n",
    "\n",
    "# all_CIMS_windows.fa 파일이 작업 디렉터리에 있어야 합니다.\n",
    "records = list(SeqIO.parse(\"all_CIMS_windows.fa\", \"fasta\"))\n",
    "\n",
    "# 윈도우 길이(should be 31nt)\n",
    "window_len = len(records[0].seq)\n",
    "print(f\"Loaded {len(records)} windows, each length = {window_len} nt\")\n",
    "\n",
    "# ─────────────────────────────────────────────────────────────────\n",
    "# 2) wc_matrix_all (31×31 정수형) 계산하기\n",
    "# ─────────────────────────────────────────────────────────────────\n",
    "\n",
    "# 2-1. 빈 31×31 매트릭스 초기화\n",
    "wc_matrix_all = np.zeros((window_len, window_len), dtype=int)\n",
    "\n",
    "# 2-2. Watson-Crick pair 판별 함수 (RNA 기준: A–U, G–C)\n",
    "def is_wc_pair(a, b):\n",
    "    return (a, b) in {('A', 'U'), ('U', 'A'), ('G', 'C'), ('C', 'G')}\n",
    "\n",
    "# 2-3. 각 윈도우 서열 순회하며 (i, j) 쌍에 대해 카운트\n",
    "for rec in records:\n",
    "    seq = str(rec.seq).upper().replace('T', 'U')  \n",
    "    # (DNA로부터 추출된 FASTA는 T가 있기 때문에, RNA 기준 분석 시 U로 변환)\n",
    "    for i in range(window_len):\n",
    "        for j in range(i+1, window_len):\n",
    "            if is_wc_pair(seq[i], seq[j]):\n",
    "                wc_matrix_all[i, j] += 1\n",
    "\n",
    "print(\"wc_matrix_all 생성 완료 — shape:\", wc_matrix_all.shape)\n"
   ]
  },
  {
   "cell_type": "code",
   "execution_count": 20,
   "metadata": {},
   "outputs": [
    {
     "name": "stdout",
     "output_type": "stream",
     "text": [
      "Collecting logomaker\n",
      "  Downloading logomaker-0.8.7-py3-none-any.whl.metadata (2.6 kB)\n",
      "Requirement already satisfied: matplotlib in /home/hyeonji/miniconda/envs/bioinfo/lib/python3.11/site-packages (from logomaker) (3.10.3)\n",
      "Requirement already satisfied: numpy in /home/hyeonji/miniconda/envs/bioinfo/lib/python3.11/site-packages (from logomaker) (2.2.5)\n",
      "Requirement already satisfied: pandas in /home/hyeonji/miniconda/envs/bioinfo/lib/python3.11/site-packages (from logomaker) (2.2.3)\n",
      "Requirement already satisfied: contourpy>=1.0.1 in /home/hyeonji/miniconda/envs/bioinfo/lib/python3.11/site-packages (from matplotlib->logomaker) (1.3.2)\n",
      "Requirement already satisfied: cycler>=0.10 in /home/hyeonji/miniconda/envs/bioinfo/lib/python3.11/site-packages (from matplotlib->logomaker) (0.12.1)\n",
      "Requirement already satisfied: fonttools>=4.22.0 in /home/hyeonji/miniconda/envs/bioinfo/lib/python3.11/site-packages (from matplotlib->logomaker) (4.58.1)\n",
      "Requirement already satisfied: kiwisolver>=1.3.1 in /home/hyeonji/miniconda/envs/bioinfo/lib/python3.11/site-packages (from matplotlib->logomaker) (1.4.8)\n",
      "Requirement already satisfied: packaging>=20.0 in /home/hyeonji/miniconda/envs/bioinfo/lib/python3.11/site-packages (from matplotlib->logomaker) (25.0)\n",
      "Requirement already satisfied: pillow>=8 in /home/hyeonji/miniconda/envs/bioinfo/lib/python3.11/site-packages (from matplotlib->logomaker) (11.2.1)\n",
      "Requirement already satisfied: pyparsing>=2.3.1 in /home/hyeonji/miniconda/envs/bioinfo/lib/python3.11/site-packages (from matplotlib->logomaker) (3.2.3)\n",
      "Requirement already satisfied: python-dateutil>=2.7 in /home/hyeonji/miniconda/envs/bioinfo/lib/python3.11/site-packages (from matplotlib->logomaker) (2.9.0.post0)\n",
      "Requirement already satisfied: six>=1.5 in /home/hyeonji/miniconda/envs/bioinfo/lib/python3.11/site-packages (from python-dateutil>=2.7->matplotlib->logomaker) (1.17.0)\n",
      "Requirement already satisfied: pytz>=2020.1 in /home/hyeonji/miniconda/envs/bioinfo/lib/python3.11/site-packages (from pandas->logomaker) (2025.2)\n",
      "Requirement already satisfied: tzdata>=2022.7 in /home/hyeonji/miniconda/envs/bioinfo/lib/python3.11/site-packages (from pandas->logomaker) (2025.2)\n",
      "Downloading logomaker-0.8.7-py3-none-any.whl (13.2 MB)\n",
      "\u001b[2K   \u001b[38;2;114;156;31m━━━━━━━━━━━━━━━━━━━━━━━━━━━━━━━━━━━━━━━━\u001b[0m \u001b[32m13.2/13.2 MB\u001b[0m \u001b[31m6.1 MB/s\u001b[0m eta \u001b[36m0:00:00\u001b[0m MB/s\u001b[0m eta \u001b[36m0:00:01\u001b[0m02\u001b[0m\n",
      "\u001b[?25hInstalling collected packages: logomaker\n",
      "Successfully installed logomaker-0.8.7\n"
     ]
    }
   ],
   "source": [
    "!pip install logomaker"
   ]
  },
  {
   "cell_type": "code",
   "execution_count": 34,
   "metadata": {},
   "outputs": [
    {
     "name": "stdout",
     "output_type": "stream",
     "text": [
      "\n",
      "[chr9:106056039-106056126] DNA Sequence (length = 88) :\n",
      "\n",
      "CCAGGCTGAGGTAGTAGTTTGTACAGTTTGAGGGTCTATGATACCACCCGGTACAGGAGATAACTGTACAGGCCACTGCCTTGCCAGG \n",
      "\n"
     ]
    }
   ],
   "source": [
    "from Bio import SeqIO\n",
    "\n",
    "# 1) 인덱싱: mm39 게놈이 인덱싱되어 있어야 합니다.\n",
    "genome_index = SeqIO.index(\"mm39.fa\", \"fasta\")\n",
    "\n",
    "# 2) let7g 구간 정보 (예: chr9:106056039–106056126)\n",
    "chrom = \"chr9\"\n",
    "start = 106056039\n",
    "end   = 106056126\n",
    "\n",
    "# 3) 해당 염색체 잘라오기 (1-based → 0-based, end-exclusive)\n",
    "seq_chunk = genome_index[chrom].seq[start-1 : end]\n",
    "seq_str   = str(seq_chunk).upper()  # DNA(T 포함) 형태\n",
    "\n",
    "print(f\"\\n[{chrom}:{start}-{end}] DNA Sequence (length = {len(seq_str)}) :\\n\")\n",
    "print(seq_str, \"\\n\")"
   ]
  },
  {
   "cell_type": "code",
   "execution_count": 46,
   "metadata": {},
   "outputs": [
    {
     "name": "stdout",
     "output_type": "stream",
     "text": [
      "=== Found Mirlet7 pre‐miRNA transcripts: ===\n",
      "  • Mirlet7a-2: chr9:41448012-41448107 (+)\n",
      "  • Mirlet7g: chr9:106056039-106056126 (+)\n",
      "  • Mirlet7i: chr10:122821545-122821629 (-)\n",
      "  • Mirlet7d: chr13:48689488-48689590 (-)\n",
      "  • Mirlet7f-1: chr13:48691305-48691393 (-)\n",
      "  • Mirlet7a-1: chr13:48691655-48691748 (-)\n",
      "  • Mirlet7c-2: chr15:85590804-85590898 (+)\n",
      "  • Mirlet7b: chr15:85591520-85591604 (+)\n",
      "  • Mirlet7c-1: chr16:77396545-77396638 (+)\n",
      "  • Mirlet7e: chr17:18050614-18050706 (+)\n",
      "  • Mirlet7f-2: chrX:150695342-150695424 (+)\n",
      "\n",
      "총 11개의 Mirlet7 계열을 찾았습니다.\n",
      "\n",
      "[Mirlet7a-2] 생성된 윈도우 개수 = 0\n",
      "[Mirlet7g] 생성된 윈도우 개수 = 0\n",
      "[Mirlet7i] 생성된 윈도우 개수 = 0\n",
      "[Mirlet7d] 생성된 윈도우 개수 = 0\n",
      "[Mirlet7f-1] 생성된 윈도우 개수 = 0\n",
      "[Mirlet7a-1] 생성된 윈도우 개수 = 0\n",
      "[Mirlet7c-2] 생성된 윈도우 개수 = 0\n",
      "[Mirlet7b] 생성된 윈도우 개수 = 0\n",
      "[Mirlet7c-1] 생성된 윈도우 개수 = 0\n",
      "[Mirlet7e] 생성된 윈도우 개수 = 0\n",
      "[Mirlet7f-2] 생성된 윈도우 개수 = 0\n",
      "\n",
      "전체 Mirlet7 계열에서 0개의 윈도우가 생성되었습니다.\n",
      "\n",
      "→ 'all_Mirlet7_motif_centered.fa'에 0개의 윈도우를 저장했습니다.\n"
     ]
    }
   ],
   "source": [
    "import gzip\n",
    "import re\n",
    "from collections import defaultdict\n",
    "from Bio import SeqIO\n",
    "\n",
    "# ────────────────────────────────────────────────────────────────────────\n",
    "# (1) mm39용 GTF 파일 경로 (실제로 존재하는 파일명으로 수정하세요)\n",
    "#    예시: 작업 폴더에 'gencode.gtf.gz' 파일이 있다면 아래처럼 적습니다.\n",
    "# ────────────────────────────────────────────────────────────────────────\n",
    "gtf_path = \"binfo1-datapack1/gencode.gtf.gz\"   # ← 실제 파일 이름과 경로를 정확히 써 주세요!\n",
    "\n",
    "# Mirlet7 계열 전구체(pre‐miRNA) 좌표를 담을 dict\n",
    "mirlet7_coords = defaultdict(list)\n",
    "\n",
    "# GTF를 열 때는 gzip.open을 써서 압축을 풀어서 읽습니다.\n",
    "with gzip.open(gtf_path, \"rt\") as fh:\n",
    "    for line in fh:\n",
    "        if line.startswith(\"#\"):\n",
    "            continue\n",
    "        cols = line.strip().split(\"\\t\")\n",
    "        chrom, feature_type = cols[0], cols[2]\n",
    "        start, end = int(cols[3]), int(cols[4])\n",
    "        attr_field = cols[8]\n",
    "        \n",
    "        # gene_name 필드에서 'Mirlet7'로 시작하는지 확인\n",
    "        match_gn = re.search(r'gene_name \"([^\"]+)\"', attr_field)\n",
    "        if match_gn:\n",
    "            gene_name = match_gn.group(1)\n",
    "            if gene_name.startswith(\"Mirlet7\"):\n",
    "                # pre-miRNA 전구체는 feature_type == \"transcript\"로 가정\n",
    "                if feature_type == \"transcript\":\n",
    "                    strand = cols[6]\n",
    "                    mirlet7_coords[gene_name].append((chrom, start, end, strand))\n",
    "\n",
    "# 좌표 확인용 출력\n",
    "print(\"=== Found Mirlet7 pre‐miRNA transcripts: ===\")\n",
    "for g, lst in mirlet7_coords.items():\n",
    "    for (c, s, e, strd) in lst:\n",
    "        print(f\"  • {g}: {c}:{s}-{e} ({strd})\")\n",
    "print(f\"\\n총 {len(mirlet7_coords)}개의 Mirlet7 계열을 찾았습니다.\\n\")\n",
    "\n",
    "# ────────────────────────────────────────────────────────────────────────\n",
    "# (2) mm39 전체 유전체 FASTA 인덱싱\n",
    "#    • 반드시 mm39.fa 파일이 압축 해제된 상태여야 합니다.\n",
    "# ────────────────────────────────────────────────────────────────────────\n",
    "genome_index = SeqIO.index(\"mm39.fa\", \"fasta\")\n",
    "\n",
    "# ────────────────────────────────────────────────────────────────────────\n",
    "# (3) DNA motif: AAGNG \n",
    "# ────────────────────────────────────────────────────────────────────────\n",
    "dna_motif_pattern = re.compile(r\"AAG[ACGT][ACT]G\")\n",
    "\n",
    "# ────────────────────────────────────────────────────────────────────────\n",
    "# (4) Mirlet7 pre‐miRNA 구간마다 motif 검색 + ±15nt 윈도우 추출\n",
    "# ────────────────────────────────────────────────────────────────────────\n",
    "all_windows = []\n",
    "window_radius = 15\n",
    "window_length = window_radius * 2 + 1  # 31\n",
    "\n",
    "for gene, coord_list in mirlet7_coords.items():\n",
    "    for (chrom, region_start, region_end, strand) in coord_list:\n",
    "        if chrom not in genome_index:\n",
    "            print(f\"경고: {chrom} not found in mm39.fa → 건너뜁니다.\")\n",
    "            continue\n",
    "        \n",
    "        # 해당 구간 DNA 서열(1-based → 0-based) 추출\n",
    "        sub_seq_dna = genome_index[chrom].seq[region_start - 1 : region_end]\n",
    "        sub_str_dna = str(sub_seq_dna).upper()\n",
    "        \n",
    "        # DNA motif(AAGN[ACT]G) 검색\n",
    "        for m in dna_motif_pattern.finditer(sub_str_dna):\n",
    "            # m.start()는 “첫 번째 A”의 0-based 인덱스(슬라이스된 sub_str_dna 내부)\n",
    "            # 절대 좌표(1-based) = (region_start - 1) + m.start() + 1\n",
    "            motif_abs_start = (region_start - 1) + m.start() + 1\n",
    "            # 첫 번째 G 의 절대 좌표(1-based)\n",
    "            first_G_pos = motif_abs_start + 2\n",
    "            \n",
    "            # ±15nt 윈도우 (1-based 좌표)\n",
    "            win0 = first_G_pos - window_radius\n",
    "            win1 = first_G_pos + window_radius\n",
    "            if win0 < 1 or win1 > len(genome_index[chrom].seq):\n",
    "                continue\n",
    "            \n",
    "            # DNA → RNA(U) 치환하여 윈도우 시퀀스 생성\n",
    "            raw_win_dna = genome_index[chrom].seq[win0 - 1 : win1]\n",
    "            raw_win_rna = str(raw_win_dna).upper().replace(\"T\", \"U\")\n",
    "            if len(raw_win_rna) != window_length:\n",
    "                continue\n",
    "            \n",
    "            # FASTA 헤더 (1-based inclusive)\n",
    "            hdr = f\"{gene}_{chrom}:{first_G_pos - window_radius}-{first_G_pos + window_radius}\"\n",
    "            all_windows.append((gene, hdr, raw_win_rna))\n",
    "    \n",
    "    print(f\"[{gene}] 생성된 윈도우 개수 = {len([w for w in all_windows if w[0]==gene])}\")\n",
    "\n",
    "print(f\"\\n전체 Mirlet7 계열에서 {len(all_windows)}개의 윈도우가 생성되었습니다.\\n\")\n",
    "\n",
    "# ────────────────────────────────────────────────────────────────────────\n",
    "# (5) FASTA 파일로 저장\n",
    "# ────────────────────────────────────────────────────────────────────────\n",
    "out_fasta = \"all_Mirlet7_motif_centered.fa\"\n",
    "with open(out_fasta, \"w\") as fw:\n",
    "    for gene, hdr, seq in all_windows:\n",
    "        fw.write(f\">{hdr}\\n\")\n",
    "        fw.write(seq + \"\\n\")\n",
    "\n",
    "print(f\"→ '{out_fasta}'에 {len(all_windows)}개의 윈도우를 저장했습니다.\")\n"
   ]
  },
  {
   "cell_type": "code",
   "execution_count": 53,
   "metadata": {},
   "outputs": [
    {
     "name": "stdout",
     "output_type": "stream",
     "text": [
      "총 매칭 개수: 2\n",
      "  매칭 위치(0-based): 7 매칭 문자열: GAGG\n",
      "  매칭 위치(0-based): 29 매칭 문자열: GAGG\n"
     ]
    }
   ],
   "source": [
    "import re\n",
    "\n",
    "# 1) FASTA 파일 내용을 코딩해서 직접 변수에 넣습니다.\n",
    "let7g_seq = \"CCAGGCTGAGGTAGTAGTTTGTACAGTTTGAGGGTCTATGATACCACCCGGTACAGGAGATAACTGTACAGGCCACTGCCTTGCCAGG\"  # 앞에서 뽑은 let7g_precursor.fa의 시퀀스\n",
    "\n",
    "# 2) 정규식(AAGN[ACT]G) 지정\n",
    "pattern = re.compile(r\"GAGG\")\n",
    "\n",
    "# 3) finditer\n",
    "matches = list(pattern.finditer(let7g_seq.upper()))\n",
    "print(\"총 매칭 개수:\", len(matches))\n",
    "for m in matches:\n",
    "    print(\"  매칭 위치(0-based):\", m.start(), \"매칭 문자열:\", m.group())\n"
   ]
  },
  {
   "cell_type": "code",
   "execution_count": 65,
   "metadata": {},
   "outputs": [
    {
     "name": "stdout",
     "output_type": "stream",
     "text": [
      "Mirlet7g head:\n",
      "   chrom        pos  entropy\n",
      "0  chr9  106056039      0.0\n",
      "1  chr9  106056040      0.0\n",
      "2  chr9  106056041      0.0\n",
      "3  chr9  106056042      0.0\n",
      "4  chr9  106056043      0.0\n",
      "Mirlet7g chrom unique: ['chr9']\n",
      "Mirlet7f-1 head:\n",
      "    chrom       pos  entropy\n",
      "0  chr13  48691305     -0.0\n",
      "1  chr13  48691306     -0.0\n",
      "2  chr13  48691307     -0.0\n",
      "3  chr13  48691308     -0.0\n",
      "4  chr13  48691309     -0.0\n",
      "Mirlet7f-1 chrom unique: ['chr13']\n",
      "Mirlet7d head:\n",
      "    chrom       pos   entropy\n",
      "0  chr13  48689488  0.721928\n",
      "1  chr13  48689489  0.474345\n",
      "2  chr13  48689490  0.356780\n",
      "3  chr13  48689491  0.452382\n",
      "4  chr13  48689492 -0.000000\n",
      "Mirlet7d chrom unique: ['chr13']\n"
     ]
    }
   ],
   "source": [
    "import pandas as pd\n",
    "import numpy as np\n",
    "import matplotlib.pyplot as plt\n",
    "import logomaker as lm\n",
    "from Bio import SeqIO\n",
    "\n",
    "# ─────────────────────────────────────────────────────────────\n",
    "# STEP 0. 설정: FASTA 및 BedGraph 경로, 파라미터\n",
    "# ─────────────────────────────────────────────────────────────\n",
    "GENOME_FA       = \"mm39.fa\"                 # mm39 reference FASTA (반드시 인덱스 존재)\n",
    "BEDGRAPH_G      = \"Mirlet7g_entropy.bedGraph\"   # 4-열 BedGraph\n",
    "BEDGRAPH_F1     = \"Mirlet7f-1_entropy.bedGraph\" # 4-열 BedGraph\n",
    "BEDGRAPH_D      = \"Mirlet7d_entropy.bedGraph\"   # 4-열 BedGraph\n",
    "\n",
    "window_radius   = 15                        # ±15 nt window → length = 31\n",
    "window_length   = 2*window_radius + 1       # 31\n",
    "entropy_threshold = 0.02              # 이 값 이상인 엔트로피 위치 모두 선택\n",
    "\n",
    "# ─────────────────────────────────────────────────────────────\n",
    "# STEP 1. BedGraph 파일을 읽어서 “pos1b = start + 1” 로 변환\n",
    "# ─────────────────────────────────────────────────────────────\n",
    "def read_bedgraph_4col(path, chrom_name):\n",
    "    \"\"\"\n",
    "    • BedGraph 4열: chrom, start, end, entropy\n",
    "    • 'start'는 0-based coordinate, 'end' = 'start'+1 형태로 들어있다고 가정.\n",
    "    • 실제 crosslink 염기의 1-based 위치는 pos1b = start + 1.\n",
    "    • 반환: pandas DataFrame(columns=['chrom','pos','entropy'])\n",
    "    \"\"\"\n",
    "    df = pd.read_csv(path, sep=\"\\t\", header=None,\n",
    "                     names=[\"chrom\",\"start\",\"end\",\"entropy\"])\n",
    "    # 1) 불러올 때 이미 'chrom' 칼럼이 \"chr9\", \"chr13\" 형태여야 함.\n",
    "    #    만약 실제 BedGraph에 \"9\" 같은 숫자만 있었다면 접두사 'chr'를 붙이는 작업 필요.\n",
    "    #    여기서는 “파일에 이미 'chr9' 형태로 들어 있다”라고 가정.\n",
    "    #\n",
    "    # 2) \"pos1b\" = df[\"start\"] + 1  (crosslink site의 1-based 좌표)\n",
    "    df[\"pos\"] = df[\"start\"].astype(int) + 1\n",
    "\n",
    "    # 3) 최종적으로 columns = ['chrom','pos','entropy'] 만 남긴다\n",
    "    df2 = df[[\"chrom\",\"pos\",\"entropy\"]].copy()\n",
    "    return df2\n",
    "\n",
    "# 세 파일 모두 읽어서 DataFrame 생성\n",
    "df_g  = read_bedgraph_4col(BEDGRAPH_G,  \"chr9\")\n",
    "df_f1 = read_bedgraph_4col(BEDGRAPH_F1, \"chr13\")\n",
    "df_d  = read_bedgraph_4col(BEDGRAPH_D,  \"chr13\")\n",
    "\n",
    "# 확인: 올바르게 변환되었는지 head/unique 확인\n",
    "print(\"Mirlet7g head:\\n\", df_g.head())\n",
    "print(\"Mirlet7g chrom unique:\", df_g[\"chrom\"].unique())\n",
    "\n",
    "print(\"Mirlet7f-1 head:\\n\", df_f1.head())\n",
    "print(\"Mirlet7f-1 chrom unique:\", df_f1[\"chrom\"].unique())\n",
    "\n",
    "print(\"Mirlet7d head:\\n\", df_d.head())\n",
    "print(\"Mirlet7d chrom unique:\", df_d[\"chrom\"].unique())"
   ]
  },
  {
   "cell_type": "code",
   "execution_count": 66,
   "metadata": {},
   "outputs": [
    {
     "name": "stdout",
     "output_type": "stream",
     "text": [
      "Mirlet7g에서 entropy ≥ 0.02인 row 개수: 9\n",
      "Mirlet7f-1에서 entropy ≥ 0.02인 row 개수: 5\n",
      "Mirlet7d에서 entropy ≥ 0.02인 row 개수: 14\n",
      "▶ 윈도우 후보 전체 개수 (entropy ≥ thr): 28\n"
     ]
    }
   ],
   "source": [
    "# STEP 2. entropy ≥ threshold인 모든 위치를 후보(candidates)로 모으기\n",
    "# ─────────────────────────────────────────────────────────────\n",
    "candidates = []  # (gene, chrom, pos1b) 튜플\n",
    "\n",
    "for gene, df in zip([\"Mirlet7g\",\"Mirlet7f-1\",\"Mirlet7d\"], [df_g, df_f1, df_d]):\n",
    "    df_h = df[df[\"entropy\"] >= entropy_threshold].copy()\n",
    "    print(f\"{gene}에서 entropy ≥ {entropy_threshold:.2f}인 row 개수:\", len(df_h))\n",
    "    for _, row in df_h.iterrows():\n",
    "        chrom = row[\"chrom\"]          # ex. \"chr9\" 또는 \"chr13\"\n",
    "        pos1b = int(row[\"pos\"])       # 1-based 위치\n",
    "        candidates.append( (gene, chrom, pos1b) )\n",
    "\n",
    "print(\"▶ 윈도우 후보 전체 개수 (entropy ≥ thr):\", len(candidates))"
   ]
  },
  {
   "cell_type": "code",
   "execution_count": 59,
   "metadata": {},
   "outputs": [
    {
     "name": "stdout",
     "output_type": "stream",
     "text": [
      "▶ mm39.fa 인덱싱 중...완료.\n"
     ]
    }
   ],
   "source": [
    "# STEP 3. mm39.fa 인덱싱 (Biopython)\n",
    "# ─────────────────────────────────────────────────────────────\n",
    "print(\"▶ mm39.fa 인덱싱 중...\", end=\"\", flush=True)\n",
    "genome_index = SeqIO.index(GENOME_FA, \"fasta\")\n",
    "print(\"완료.\")"
   ]
  },
  {
   "cell_type": "code",
   "execution_count": 67,
   "metadata": {},
   "outputs": [
    {
     "name": "stdout",
     "output_type": "stream",
     "text": [
      "▶ 실제 확보된 ±15nt RNA 윈도우 개수: 28\n",
      "   → all_Mirlet7_entropy_windows.fa 저장 완료.\n"
     ]
    }
   ],
   "source": [
    "# STEP 4. 후보 위치마다 “±15 nt” 윈도우 추출 → all_windows 리스트에 저장\n",
    "# ─────────────────────────────────────────────────────────────\n",
    "all_windows = []\n",
    "\n",
    "for (gene, chrom, pos1b) in candidates:\n",
    "    # 1) 만약 genome_index에 해당 chrom(예: \"chr9\")이 없다면 건너뜀\n",
    "    if chrom not in genome_index:\n",
    "        print(f\"[경고] genome_index에 '{chrom}' 키 없음 → 건너뜀: {gene} {chrom}:{pos1b}\")\n",
    "        continue\n",
    "\n",
    "    # 2) ±15nt 좌표 계산 (1-based)\n",
    "    w_start = pos1b - window_radius\n",
    "    w_end   = pos1b + window_radius\n",
    "    seq_len = len(genome_index[chrom].seq)\n",
    "\n",
    "    # 3) 유전체 경계를 벗어나면 건너뜀\n",
    "    if w_start < 1 or w_end > seq_len:\n",
    "        continue\n",
    "\n",
    "    # 4) DNA → RNA (0-based slice)\n",
    "    dna_seq = genome_index[chrom].seq[w_start-1 : w_end]  # [start-1:end]\n",
    "    rna_seq = str(dna_seq).upper().replace(\"T\",\"U\")\n",
    "\n",
    "    if len(rna_seq) == window_length:\n",
    "        all_windows.append(rna_seq)\n",
    "\n",
    "print(f\"▶ 실제 확보된 ±{window_radius}nt RNA 윈도우 개수:\", len(all_windows))\n",
    "\n",
    "# (Optional) “all_Mirlet7_entropy_windows.fa”로 출력\n",
    "with open(\"all_Mirlet7_entropy_windows.fa\", \"w\") as fw:\n",
    "    for idx, seq in enumerate(all_windows):\n",
    "        fw.write(f\">win{idx}\\n{seq}\\n\")\n",
    "print(\"   → all_Mirlet7_entropy_windows.fa 저장 완료.\")\n"
   ]
  },
  {
   "cell_type": "code",
   "execution_count": 68,
   "metadata": {},
   "outputs": [
    {
     "data": {
      "image/png": "[encoded data removed]",
      "text/plain": [
       "<Figure size 1000x600 with 3 Axes>"
      ]
     },
     "metadata": {},
     "output_type": "display_data"
    }
   ],
   "source": [
    "# STEP 5. Sequence Logo 만들기\n",
    "# ─────────────────────────────────────────────────────────────\n",
    "N = len(all_windows)\n",
    "if N == 0:\n",
    "    raise RuntimeError(\"윈도우 개수가 0개입니다. entropy_threshold를 낮추거나 BedGraph을 확인하세요.\")\n",
    "\n",
    "counts = {b:[0]*window_length for b in \"ACGU\"}\n",
    "for seq in all_windows:\n",
    "    for i, b in enumerate(seq):\n",
    "        if b in counts:\n",
    "            counts[b][i] += 1\n",
    "\n",
    "freq_df = pd.DataFrame({\n",
    "    \"A\": [counts[\"A\"][i]/N for i in range(window_length)],\n",
    "    \"C\": [counts[\"C\"][i]/N for i in range(window_length)],\n",
    "    \"G\": [counts[\"G\"][i]/N for i in range(window_length)],\n",
    "    \"U\": [counts[\"U\"][i]/N for i in range(window_length)],\n",
    "})\n",
    "freq_df.index = list(range(-window_radius, window_radius+1))\n",
    "\n",
    "# ─────────────────────────────────────────────────────────────\n",
    "# STEP 6. Watson–Crick Pair Co-occurrence 계산\n",
    "# ─────────────────────────────────────────────────────────────\n",
    "L = window_length\n",
    "wc_matrix = np.zeros((L, L), dtype=int)\n",
    "\n",
    "def is_wc_pair(a, b):\n",
    "    return (a,b) in {(\"A\",\"U\"),(\"U\",\"A\"),(\"G\",\"C\"),(\"C\",\"G\")}\n",
    "\n",
    "for seq in all_windows:\n",
    "    for i in range(L):\n",
    "        for j in range(i+1, L):\n",
    "            if is_wc_pair(seq[i], seq[j]):\n",
    "                wc_matrix[i,j] += 1\n",
    "\n",
    "freq_matrix = wc_matrix / N\n",
    "expected    = freq_matrix.mean()\n",
    "rel_matrix  = freq_matrix / expected\n",
    "plot_matrix = rel_matrix.T\n",
    "\n",
    "# ─────────────────────────────────────────────────────────────\n",
    "# STEP 7. Figure 2E 스타일 시각화: Sequence logo + Triangular heatmap\n",
    "# ─────────────────────────────────────────────────────────────\n",
    "plt.figure(figsize=(10, 6))\n",
    "\n",
    "# (A) Sequence Logo\n",
    "ax_logo = plt.subplot2grid((3,1), (0,0), rowspan=1)\n",
    "logo = lm.Logo(freq_df, ax=ax_logo, color_scheme='classic')\n",
    "ax_logo.set_ylabel(\"Frequency\")\n",
    "ax_logo.set_xticks([])\n",
    "ax_logo.set_ylim(0, 1.0)\n",
    "ax_logo.set_title(\"Sequence logo around crosslink sites (±15nt)\")\n",
    "\n",
    "# (B) Triangular Heatmap\n",
    "ax_heat = plt.subplot2grid((3,1), (1,0), rowspan=2)\n",
    "mask = np.tril(np.ones_like(plot_matrix, dtype=bool), k=-1)\n",
    "\n",
    "from matplotlib.colors import LinearSegmentedColormap\n",
    "colors = [\n",
    "    (0.00, \"#005C4B\"),  # 0.5× 근처: 진한 민트\n",
    "    (0.25, \"#6BB59F\"),  # 0.75× 근처: 연한 민트\n",
    "    (0.50, \"#FFFFFF\"),  # neutral: 흰색\n",
    "    (0.75, \"#F2C38F\"),  # 1.5× 근처: 연한 황토\n",
    "    (1.00, \"#754E24\")   # 2× 근처: 진한 황토\n",
    "]\n",
    "custom_cmap = LinearSegmentedColormap.from_list(\"Custom\", colors)\n",
    "\n",
    "vmin, vmax = 0.5, 2.0\n",
    "plot_matrix_masked = np.ma.masked_where(~mask, plot_matrix)\n",
    "\n",
    "im = ax_heat.imshow(\n",
    "    plot_matrix_masked,\n",
    "    cmap=custom_cmap,\n",
    "    vmin=vmin, vmax=vmax,\n",
    "    origin='lower',\n",
    "    interpolation='none'\n",
    ")\n",
    "\n",
    "ticks  = np.arange(0, L, 5)\n",
    "labels = list(range(-window_radius, window_radius+1, 5))\n",
    "ax_heat.set_xticks(ticks); ax_heat.set_xticklabels(labels)\n",
    "ax_heat.set_yticks(ticks); ax_heat.set_yticklabels(labels)\n",
    "\n",
    "ax_heat.set_xlabel(\"Position relative to motif center\")\n",
    "ax_heat.set_ylabel(\"Position relative to motif center\")\n",
    "ax_heat.set_title(\"WC-pair co-occurrence (normalized)\")\n",
    "\n",
    "cbar = plt.colorbar(im, ax=ax_heat, shrink=0.8, pad=0.02)\n",
    "cbar.set_label(\"Normalized relative frequency of WC-pair co-occurrence\")\n",
    "cbar.set_ticks([0.5, 0.75, 1.0, 1.5, 2.0])\n",
    "cbar.set_ticklabels([\"0.5×\", \"0.75×\", \"neutral\", \"1.5×\", \"2×\"])\n",
    "\n",
    "plt.tight_layout(rect=[0,0,1,0.95])\n",
    "plt.suptitle(\"Mirlet7 family: Sequence logo + Triangular WC-pair heatmap\",\n",
    "             fontsize=14, y=0.99)\n",
    "plt.show()"
   ]
  },
  {
   "cell_type": "code",
   "execution_count": 71,
   "metadata": {},
   "outputs": [
    {
     "name": "stdout",
     "output_type": "stream",
     "text": [
      "▶ let7g CIMS 후보 샘플:\n",
      "    chr9\\t106056039\\tN\\t9\\t<<<<<<<<<\\tBHEIG?DII\n",
      "0  chr9\\t106056040\\tN\\t9\\t<<<<<<<<<\\tBHEIG?DII\n",
      "1  chr9\\t106056041\\tN\\t9\\t<<<<<<<<<\\tBHEIG?DII\n",
      "2  chr9\\t106056042\\tN\\t9\\t<<<<<<<<<\\tBHEIG?DII\n",
      "3  chr9\\t106056043\\tN\\t9\\t<<<<<<<<<\\tBHEIG?DII\n",
      "4  chr9\\t106056044\\tN\\t9\\t<<<<<<<<<\\tBHEIG?DII \n",
      "\n",
      "▶ let7f-1 CIMS 후보 샘플:\n",
      "   chr13\\t48691305\\tN\\t109\\tccccccccccccccccccccccccccccccccccccccccccccccccccccccccccccccccccccccccccccccccccccccccccccccccccccccccccccc\\tB?IBHBIGI>GGHHH:IIHFGGIIIGHHIHIIBIG?IGBFIE>@IIGHEGIGHHIIIHII:HHIDBDFBIEHIGHIEI8IGGHH>II@IIDBBBH3EIH2ADGEEGDFG\n",
      "0  chr13\\t48691306\\tN\\t109\\tttttttttttttttttttttt...                                                                                                                                                                                                   \n",
      "1  chr13\\t48691307\\tN\\t109\\tccccccccccccccccccccc...                                                                                                                                                                                                   \n",
      "2  chr13\\t48691308\\tN\\t109\\taaaaaaaaaaaaaaaaaaaaa...                                                                                                                                                                                                   \n",
      "3  chr13\\t48691309\\tN\\t109\\tggggggggggggggggggggg...                                                                                                                                                                                                   \n",
      "4  chr13\\t48691310\\tN\\t116\\tggggggggggggggggggggg...                                                                                                                                                                                                    \n",
      "\n",
      "▶ let7d CIMS 후보 샘플:\n",
      "   chr13\\t48689488\\tN\\t24\\t^Ga^Ia^Ha^Ia^Ha^Ia^Ia^Ia^Ga^Ia^Ia^Ia^Ia^Ia^Ha^Ia^Ga^Ga^Ga^Ia^Ea^Da^Ha^Ga\\tBIHGGIHIEIIIGIHIGEGH5BDD\n",
      "0  chr13\\t48689489\\tN\\t53\\taaaaaaaaaaaaaaaaaaaaaa...                                                                        \n",
      "1  chr13\\t48689490\\tN\\t69\\ttttttttttttttttttttttt...                                                                        \n",
      "2  chr13\\t48689491\\tN\\t105\\taaaaaaaaaaaaaaaaaaaaa...                                                                        \n",
      "3  chr13\\t48689492\\tN\\t105\\taaaaaaaaaaaaaaaaaaaaa...                                                                        \n",
      "4  chr13\\t48689493\\tN\\t105\\tggggggggggggggggggggg...                                                                         \n",
      "\n"
     ]
    }
   ],
   "source": [
    "# STEP A. 라이브러리 로드 및 파일 경로 설정\n",
    "# ─────────────────────────────────────────────────────────────\n",
    "import re\n",
    "from collections import defaultdict\n",
    "from Bio import SeqIO\n",
    "\n",
    "# 1) 미션 3에서 생성해 두셨던 CIMS 후보 목록(pileup_mismatches) 파일 경로\n",
    "#    -> CSV/TSV로 저장해 두셨다면 pandas로 읽어 오면 됩니다. \n",
    "import pandas as pd\n",
    "\n",
    "cims_let7g_path  = \"CLIP-let7g-gene.pileup\"    # 예시: columns=['chrom','pos','_ref','matches',…]\n",
    "cims_let7f1_path = \"CLIP-let7f-1-gene.pileup\"\n",
    "cims_let7d_path  = \"CLIP-let7d-gene.pileup\"\n",
    "\n",
    "# 2) pre‐let‐7 FASTA 파일 경로 (mm39 기반)\n",
    "fasta_let7g_path  = \"let7g_precursor.fa\"\n",
    "fasta_let7f1_path = \"let7f-1_precursor.fa\"\n",
    "fasta_let7d_path  = \"let7d_precursor.fa\"\n",
    "\n",
    "# 3) 전체 genome FASTA (인덱스 생성 없이 바로 SeqIO.index로 읽어도 됩니다)\n",
    "genome_fa_path = \"mm39.fa\"\n",
    "\n",
    "# 4) motif = \"GGAG\"\n",
    "MOTIF = \"GGAG\"\n",
    "motif_len = len(MOTIF)   # 4\n",
    "\n",
    "# 5) ±15nt window 파라미터\n",
    "window_radius = 15\n",
    "window_length = 2 * window_radius + 1  # 31\n",
    "\n",
    "# ─────────────────────────────────────────────────────────────\n",
    "# STEP B. 미션 3의 CIMS 후보 목록(pileup_mismatches) 로드\n",
    "# ─────────────────────────────────────────────────────────────\n",
    "# (만약 .csv 형태가 아니라, 바로 pandas DataFrame이 노트북에 이미 남아 있다면 df_let7g_mismatches = pileup_mismatches[let7g 조건] 식으로 대체하셔도 됩니다.)\n",
    "\n",
    "df_cims_let7g  = pd.read_csv(cims_let7g_path)   # 최소 ['chrom','pos', ...] 칼럼 필요\n",
    "df_cims_let7f1 = pd.read_csv(cims_let7f1_path)\n",
    "df_cims_let7d  = pd.read_csv(cims_let7d_path)\n",
    "\n",
    "# “pos” 칼럼은 1-based crosslink 위치를 가정합니다.\n",
    "# 예시 출력 확인\n",
    "print(\"▶ let7g CIMS 후보 샘플:\\n\", df_cims_let7g.head(), \"\\n\")\n",
    "print(\"▶ let7f-1 CIMS 후보 샘플:\\n\", df_cims_let7f1.head(), \"\\n\")\n",
    "print(\"▶ let7d CIMS 후보 샘플:\\n\", df_cims_let7d.head(), \"\\n\")"
   ]
  },
  {
   "cell_type": "code",
   "execution_count": 72,
   "metadata": {},
   "outputs": [
    {
     "name": "stdout",
     "output_type": "stream",
     "text": [
      "▶ pre-let-7g 내 GGAG 위치(1-based): defaultdict(<class 'list'>, {'chr9:106056039-106056126': [(56, 59)]}) \n",
      "\n",
      "▶ pre-let-7f-1 내 GGAG 위치: defaultdict(<class 'list'>, {}) \n",
      "\n",
      "▶ pre-let-7d 내 GGAG 위치: defaultdict(<class 'list'>, {}) \n",
      "\n"
     ]
    }
   ],
   "source": [
    "# STEP C. “각 전구체(precursor) FASTA 내에서 GGAG motif 위치 스캔” 함수 정의\n",
    "# ─────────────────────────────────────────────────────────────\n",
    "def find_motif_positions(fasta_path, motif):\n",
    "    \"\"\"\n",
    "    • fasta_path: pre-let-7*.fa 같이 단일 시퀀스만 기록된 FASTA 파일 경로\n",
    "    • motif: 이전에 정의한 \"GGAG\"\n",
    "    • 반환: 딕셔너리 { 'chrom_or_record_id': [ (motif_start_1b, motif_end_1b), ... ] }\n",
    "        - 여기서 motif_start_1b, motif_end_1b는 “1-based 좌표” (FASTA 헤더에 따라 chrom과 매핑이 필요)\n",
    "    \"\"\"\n",
    "    motif = motif.upper()\n",
    "    motif_len = len(motif)\n",
    "    result = defaultdict(list)\n",
    "\n",
    "    # Biopython으로 FASTA 레코드 읽기 (실제로는 한 개만 있다고 가정)\n",
    "    for rec in SeqIO.parse(fasta_path, \"fasta\"):\n",
    "        seq_str = str(rec.seq).upper()\n",
    "        seq_len = len(seq_str)\n",
    "\n",
    "        # “GGAG”가 나타나는 모든 위치(0-based 검색 후 +1 → 1-based)  \n",
    "        for match in re.finditer(motif, seq_str):\n",
    "            start0 = match.start()       # 0-based index\n",
    "            end0   = match.end() - 1     # 0-based 마지막 index\n",
    "            # 1-based 변환\n",
    "            start1b = start0 + 1\n",
    "            end1b   = end0 + 1\n",
    "            result[rec.id].append((start1b, end1b))\n",
    "\n",
    "    return result\n",
    "\n",
    "# 각 전구체 FASTA에서 GGAG motif 위치 찾기\n",
    "motif_pos_let7g  = find_motif_positions(fasta_let7g_path,  MOTIF)\n",
    "motif_pos_let7f1 = find_motif_positions(fasta_let7f1_path, MOTIF)\n",
    "motif_pos_let7d  = find_motif_positions(fasta_let7d_path,  MOTIF)\n",
    "\n",
    "print(\"▶ pre-let-7g 내 GGAG 위치(1-based):\",  motif_pos_let7g, \"\\n\")\n",
    "print(\"▶ pre-let-7f-1 내 GGAG 위치:\",          motif_pos_let7f1, \"\\n\")\n",
    "print(\"▶ pre-let-7d 내 GGAG 위치:\",          motif_pos_let7d, \"\\n\")\n"
   ]
  },
  {
   "cell_type": "code",
   "execution_count": 81,
   "metadata": {
    "scrolled": true
   },
   "outputs": [
    {
     "name": "stdout",
     "output_type": "stream",
     "text": [
      "▶ df_cims_let7g 칼럼 목록: ['chrom', 'pos', '_ref', 'count', 'basereads', 'quals']\n",
      "  chrom        pos _ref  count  basereads      quals\n",
      "0  chr9  106056039    N      9  <<<<<<<<<  BHEIG?DII\n",
      "1  chr9  106056040    N      9  <<<<<<<<<  BHEIG?DII\n",
      "2  chr9  106056041    N      9  <<<<<<<<<  BHEIG?DII\n",
      "3  chr9  106056042    N      9  <<<<<<<<<  BHEIG?DII\n",
      "4  chr9  106056043    N      9  <<<<<<<<<  BHEIG?DII\n"
     ]
    }
   ],
   "source": [
    "import pandas as pd\n",
    "\n",
    "# 예: let-7g CIMS(=mismatch) 후보 파일 읽기\n",
    "df_cims_let7g = pd.read_csv(\n",
    "    \"CLIP-let7g-gene.pileup\",\n",
    "    sep=\"\\t\",                     # 탭으로 분리\n",
    "    header=None,                  # 파일에 헤더 행이 없다고 가정\n",
    "    names=[\"chrom\",\"pos\",\"_ref\",\"count\",\"basereads\",\"quals\"]\n",
    ")\n",
    "\n",
    "# 열이 제대로 분리되었는지 확인\n",
    "print(\"▶ df_cims_let7g 칼럼 목록:\", df_cims_let7g.columns.tolist())\n",
    "print(df_cims_let7g.head())\n",
    "\n",
    "df_cims_let7f1 = pd.read_csv(\n",
    "    \"CLIP-let7f-1-gene.pileup\",\n",
    "    sep=\"\\t\",\n",
    "    header=None,\n",
    "    names=[\"chrom\",\"pos\",\"_ref\",\"count\",\"basereads\",\"quals\"]\n",
    ")\n",
    "df_cims_let7d = pd.read_csv(\n",
    "    \"CLIP-let7d-gene.pileup\",\n",
    "    sep=\"\\t\",\n",
    "    header=None,\n",
    "    names=[\"chrom\",\"pos\",\"_ref\",\"count\",\"basereads\",\"quals\"]\n",
    ")"
   ]
  },
  {
   "cell_type": "code",
   "execution_count": 86,
   "metadata": {},
   "outputs": [
    {
     "name": "stdout",
     "output_type": "stream",
     "text": [
      "▶ let7g CIMS columns: ['chrom', 'pos', '_ref', 'count', 'basereads', 'quals']\n",
      "▶ let7f-1 CIMS columns: ['chrom', 'pos', '_ref', 'count', 'basereads', 'quals']\n",
      "▶ let7d CIMS columns: ['chrom', 'pos', '_ref', 'count', 'basereads', 'quals']\n"
     ]
    }
   ],
   "source": [
    "import pandas as pd\n",
    "import re\n",
    "from Bio import SeqIO\n",
    "\n",
    "# =========================\n",
    "# [STEP 1] CIMS DataFrame 준비\n",
    "# =========================\n",
    "# (1) pileup에서 직접 mismatch만 뽑아오기 예시\n",
    "pileup_let7g = pd.read_csv(\n",
    "    \"CLIP-let7g-gene.pileup\",\n",
    "    sep=\"\\t\", header=None,\n",
    "    names=[\"chrom\",\"pos\",\"_ref\",\"count\",\"basereads\",\"quals\"]\n",
    ")\n",
    "pattern = re.compile(r\"[A-Za-z]\")\n",
    "df_cims_let7g = pileup_let7g[ pileup_let7g[\"basereads\"].apply(lambda x: bool(pattern.search(x))) ].copy()\n",
    "\n",
    "pileup_let7f1 = pd.read_csv(\n",
    "    \"CLIP-let7f-1-gene.pileup\",\n",
    "    sep=\"\\t\", header=None,\n",
    "    names=[\"chrom\",\"pos\",\"_ref\",\"count\",\"basereads\",\"quals\"]\n",
    ")\n",
    "df_cims_let7f1 = pileup_let7f1[ pileup_let7f1[\"basereads\"].apply(lambda x: bool(pattern.search(x))) ].copy()\n",
    "\n",
    "pileup_let7d = pd.read_csv(\n",
    "    \"CLIP-let7d-gene.pileup\",\n",
    "    sep=\"\\t\", header=None,\n",
    "    names=[\"chrom\",\"pos\",\"_ref\",\"count\",\"basereads\",\"quals\"]\n",
    ")\n",
    "df_cims_let7d = pileup_let7d[ pileup_let7d[\"basereads\"].apply(lambda x: bool(pattern.search(x))) ].copy()\n",
    "\n",
    "print(\"▶ let7g CIMS columns:\", df_cims_let7g.columns.tolist())\n",
    "print(\"▶ let7f-1 CIMS columns:\", df_cims_let7f1.columns.tolist())\n",
    "print(\"▶ let7d CIMS columns:\", df_cims_let7d.columns.tolist())"
   ]
  },
  {
   "cell_type": "code",
   "execution_count": 87,
   "metadata": {},
   "outputs": [
    {
     "name": "stdout",
     "output_type": "stream",
     "text": [
      "▶ 최종 crosslink center (let-7g): [106056095]\n",
      "▶ 최종 crosslink center (let-7f-1): [48691303]\n",
      "▶ 최종 crosslink center (let-7d): [48689490]\n"
     ]
    }
   ],
   "source": [
    "# [STEP 2] motif 중심 좌표 계산\n",
    "# =========================\n",
    "# pre-let-7g: FASTA 1-based 시작 = 106056039, motif “GGAG” 위치 = 56-59 → 중심 G = 57(FASTA)\n",
    "fa_start_let7g = 106056039  \n",
    "chrom_let7g   = \"chr9\"\n",
    "pos_center_fasta_let7g = 57\n",
    "pos_center_genome_let7g = fa_start_let7g + (pos_center_fasta_let7g - 1)  # → 106056095\n",
    "\n",
    "# pre-let-7f-1: FASTA 1-based 시작 = 48691295, motif “GGAA” 위치 = 8-11 → 중심 G = 9(FASTA)\n",
    "fa_start_let7f1 = 48691295\n",
    "chrom_let7f1    = \"chr13\"\n",
    "pos_center_fasta_let7f1 = 9\n",
    "pos_center_genome_let7f1 = fa_start_let7f1 + (pos_center_fasta_let7f1 - 1)  # → 48691303\n",
    "\n",
    "# pre-let-7d: FASTA 1-based 시작 = 48689478, motif “AAGG” 위치 = 11-14 → 중심 G = 13(FASTA)\n",
    "fa_start_let7d  = 48689478\n",
    "chrom_let7d     = \"chr13\"\n",
    "pos_center_fasta_let7d = 13\n",
    "pos_center_genome_let7d = fa_start_let7d + (pos_center_fasta_let7d - 1)  # → 48689490\n",
    "\n",
    "# =========================\n",
    "# [STEP 3] CIMS 목록에서 실제 crosslink된 G 좌표 선택\n",
    "# =========================\n",
    "# ※ df_cims_*['pos']는 정상적으로 읽힌 상태여야 합니다.\n",
    "\n",
    "# (A) let-7g\n",
    "if pos_center_genome_let7g in df_cims_let7g['pos'].values:\n",
    "    chosen_let7g = [pos_center_genome_let7g]\n",
    "else:\n",
    "    # motif 4mer “GGAG”의 세 번째 G(=FASTA 58)도 검사\n",
    "    alt_let7g = fa_start_let7g + (58 - 1)\n",
    "    chosen_let7g = [alt_let7g] if alt_let7g in df_cims_let7g['pos'].values else [pos_center_genome_let7g]\n",
    "\n",
    "# (B) let-7f-1\n",
    "if pos_center_genome_let7f1 in df_cims_let7f1['pos'].values:\n",
    "    chosen_let7f1 = [pos_center_genome_let7f1]\n",
    "else:\n",
    "    alt_let7f1 = fa_start_let7f1 + (10 - 1)\n",
    "    chosen_let7f1 = [alt_let7f1] if alt_let7f1 in df_cims_let7f1['pos'].values else [pos_center_genome_let7f1]\n",
    "\n",
    "# (C) let-7d\n",
    "if pos_center_genome_let7d in df_cims_let7d['pos'].values:\n",
    "    chosen_let7d = [pos_center_genome_let7d]\n",
    "else:\n",
    "    alt_let7d = fa_start_let7d + (12 - 1)\n",
    "    chosen_let7d = [alt_let7d] if alt_let7d in df_cims_let7d['pos'].values else [pos_center_genome_let7d]\n",
    "\n",
    "print(\"▶ 최종 crosslink center (let-7g):\", chosen_let7g)\n",
    "print(\"▶ 최종 crosslink center (let-7f-1):\", chosen_let7f1)\n",
    "print(\"▶ 최종 crosslink center (let-7d):\", chosen_let7d)\n"
   ]
  },
  {
   "cell_type": "code",
   "execution_count": 88,
   "metadata": {},
   "outputs": [
    {
     "name": "stdout",
     "output_type": "stream",
     "text": [
      "▶ let-7g windows: ['UACCACCCGGUACAGGAGAUAACUGUACAGG']\n",
      "▶ let-7f-1 windows: ['AUGCAGCAAGUCUACUCCUCAGGGAAGGCAA']\n",
      "▶ let-7d windows: ['CGUAUGCUGGUAUAAUAAGGCCCUAAGAAAG']\n"
     ]
    }
   ],
   "source": [
    "# [STEP 4] ±15nt 윈도우 추출\n",
    "# =========================\n",
    "genome_idx = SeqIO.index(\"mm39.fa\", \"fasta\")\n",
    "def extract_windows_from_genome(genome_index, chrom, center_list, window_radius=15):\n",
    "    windows = []\n",
    "    L = window_radius\n",
    "    for pos0 in center_list:\n",
    "        w0, w1 = pos0 - L, pos0 + L\n",
    "        if w0 < 1 or w1 > len(genome_index[chrom].seq):\n",
    "            continue\n",
    "        dna_seq = genome_index[chrom].seq[w0-1:w1]\n",
    "        rna_seq = str(dna_seq).upper().replace(\"T\",\"U\")\n",
    "        if len(rna_seq) == 2 * L + 1:\n",
    "            windows.append(rna_seq)\n",
    "    return windows\n",
    "\n",
    "wins_let7g  = extract_windows_from_genome(genome_idx, chrom_let7g,  chosen_let7g,  15)\n",
    "wins_let7f1 = extract_windows_from_genome(genome_idx, chrom_let7f1, chosen_let7f1, 15)\n",
    "wins_let7d  = extract_windows_from_genome(genome_idx, chrom_let7d,  chosen_let7d,  15)\n",
    "\n",
    "print(\"▶ let-7g windows:\", wins_let7g)\n",
    "print(\"▶ let-7f-1 windows:\", wins_let7f1)\n",
    "print(\"▶ let-7d windows:\", wins_let7d)"
   ]
  },
  {
   "cell_type": "code",
   "execution_count": 89,
   "metadata": {},
   "outputs": [
    {
     "name": "stdout",
     "output_type": "stream",
     "text": [
      "▶ 총 3 개의 윈도우를 all_Mirlet7_motif_centered_windows.fa에 저장했습니다.\n"
     ]
    }
   ],
   "source": [
    "# [STEP 5] 최종 윈도우 FASTA로 저장\n",
    "# =========================\n",
    "all_motif_windows = wins_let7g + wins_let7f1 + wins_let7d\n",
    "with open(\"all_Mirlet7_motif_centered_windows.fa\", \"w\") as fw:\n",
    "    for i, seq in enumerate(all_motif_windows):\n",
    "        fw.write(f\">window_{i}\\n{seq}\\n\")\n",
    "\n",
    "print(\"▶ 총\", len(all_motif_windows), \"개의 윈도우를 all_Mirlet7_motif_centered_windows.fa에 저장했습니다.\")"
   ]
  },
  {
   "cell_type": "code",
   "execution_count": 90,
   "metadata": {},
   "outputs": [
    {
     "name": "stdout",
     "output_type": "stream",
     "text": [
      "자리별 염기 상대 빈도 (예시 상위 5행):\n",
      "            A         C         G         U\n",
      "-15  0.333333  0.333333  0.000000  0.333333\n",
      "-14  0.333333  0.000000  0.333333  0.333333\n",
      "-13  0.000000  0.333333  0.333333  0.333333\n",
      "-12  0.333333  0.666667  0.000000  0.000000\n",
      "-11  0.666667  0.000000  0.000000  0.333333\n"
     ]
    }
   ],
   "source": [
    "import pandas as pd\n",
    "import numpy as np\n",
    "import matplotlib.pyplot as plt\n",
    "import logomaker as lm\n",
    "\n",
    "# 1) 윈도우 리스트 직접 입력 (앞서 추출된 3개 서열)\n",
    "all_windows = [\n",
    "    \"UACCACCCGGUACAGGAGAUAACUGUACAGG\",\n",
    "    \"AUGCAGCAAGUCUACUCCUCAGGGAAGGCAA\",\n",
    "    \"CGUAUGCUGGUAUAAUAAGGCCCUAAGAAAG\"\n",
    "]\n",
    "\n",
    "# 2) 자리별 염기(A/C/G/U) 개수 세기\n",
    "window_length = len(all_windows[0])  # 31\n",
    "N = len(all_windows)                # 3\n",
    "\n",
    "# 초기화: A/C/G/U 빈도 테이블\n",
    "counts = {b: [0]*window_length for b in \"ACGU\"}\n",
    "\n",
    "for seq in all_windows:\n",
    "    for i, base in enumerate(seq):\n",
    "        if base in counts:\n",
    "            counts[base][i] += 1\n",
    "\n",
    "# 상대 빈도 DataFrame 생성 (자리 i별 염기 비율 = count / N)\n",
    "freq_df = pd.DataFrame({\n",
    "    \"A\": [counts[\"A\"][i]/N for i in range(window_length)],\n",
    "    \"C\": [counts[\"C\"][i]/N for i in range(window_length)],\n",
    "    \"G\": [counts[\"G\"][i]/N for i in range(window_length)],\n",
    "    \"U\": [counts[\"U\"][i]/N for i in range(window_length)]\n",
    "})\n",
    "# 인덱스를 –15…+15 로 설정\n",
    "freq_df.index = list(range(-15, 16))\n",
    "\n",
    "print(\"자리별 염기 상대 빈도 (예시 상위 5행):\")\n",
    "print(freq_df.head())"
   ]
  },
  {
   "cell_type": "code",
   "execution_count": 91,
   "metadata": {},
   "outputs": [
    {
     "data": {
      "image/png": "[encoded data removed]",
      "text/plain": [
       "<Figure size 800x300 with 1 Axes>"
      ]
     },
     "metadata": {},
     "output_type": "display_data"
    }
   ],
   "source": [
    "plt.figure(figsize=(8, 3))\n",
    "ax_logo = plt.subplot(1, 1, 1)\n",
    "logo = lm.Logo(freq_df, ax=ax_logo, color_scheme='classic')\n",
    "ax_logo.set_ylabel(\"Frequency\")\n",
    "ax_logo.set_xticks([])\n",
    "ax_logo.set_ylim(0, 1.0)\n",
    "ax_logo.set_title(\"Sequence logo (±15nt around motif)\")\n",
    "plt.tight_layout()\n",
    "plt.show()"
   ]
  },
  {
   "cell_type": "code",
   "execution_count": 92,
   "metadata": {},
   "outputs": [],
   "source": [
    "# 1) Watson–Crick 쌍을 판단하는 함수\n",
    "def is_wc_pair(a, b):\n",
    "    return (a, b) in {(\"A\", \"U\"), (\"U\", \"A\"), (\"G\", \"C\"), (\"C\", \"G\")}\n",
    "\n",
    "L = window_length  # 31\n",
    "wc_matrix = np.zeros((L, L), dtype=int)\n",
    "\n",
    "for seq in all_windows:\n",
    "    for i in range(L):\n",
    "        for j in range(i+1, L):\n",
    "            if is_wc_pair(seq[i], seq[j]):\n",
    "                wc_matrix[i, j] += 1\n",
    "\n",
    "# 2) 상대 빈도 (정규화)\n",
    "freq_matrix = wc_matrix / N\n",
    "expected = freq_matrix.mean()      # 전체 평균값\n",
    "rel_matrix = freq_matrix / expected\n",
    "plot_matrix = rel_matrix.T         # 시각화를 위해 전치"
   ]
  },
  {
   "cell_type": "code",
   "execution_count": 93,
   "metadata": {},
   "outputs": [
    {
     "data": {
      "image/png": "[encoded data removed]",
      "text/plain": [
       "<Figure size 600x600 with 2 Axes>"
      ]
     },
     "metadata": {},
     "output_type": "display_data"
    }
   ],
   "source": [
    "import matplotlib.pyplot as plt\n",
    "from matplotlib.colors import LinearSegmentedColormap\n",
    "\n",
    "plt.figure(figsize=(6, 6))\n",
    "ax_heat = plt.subplot(1, 1, 1)\n",
    "\n",
    "# 대칭 행렬 상에서 i<j 부분(upper triangle)만 마스크 처리\n",
    "mask = np.tril(np.ones_like(plot_matrix, dtype=bool), k=0)\n",
    "\n",
    "# 커스텀 컬러맵: 민트→흰색→황토, 논문 Fig 2E 스타일\n",
    "colors = [\n",
    "    (0.00, \"#005C4B\"),  # 0.5× (진한 민트)\n",
    "    (0.25, \"#6BB59F\"),  # 0.75× (연한 민트)\n",
    "    (0.50, \"#FFFFFF\"),  # neutral (흰색)\n",
    "    (0.75, \"#F2C38F\"),  # 1.5× (연한 황토)\n",
    "    (1.00, \"#754E24\")   # 2× (진한 황토)\n",
    "]\n",
    "custom_cmap = LinearSegmentedColormap.from_list(\"Custom\", colors)\n",
    "\n",
    "vmin, vmax = 0.5, 2.0\n",
    "masked_matrix = np.ma.masked_where(mask, plot_matrix)\n",
    "\n",
    "im = ax_heat.imshow(\n",
    "    masked_matrix,\n",
    "    cmap=custom_cmap, vmin=vmin, vmax=vmax,\n",
    "    origin='lower', interpolation='none'\n",
    ")\n",
    "\n",
    "# 눈금: −15…+15 범위, 5 단위마다 tick 설정\n",
    "ticks = np.arange(0, L, 5)\n",
    "labels = list(range(-15, 16, 5))\n",
    "ax_heat.set_xticks(ticks); ax_heat.set_xticklabels(labels)\n",
    "ax_heat.set_yticks(ticks); ax_heat.set_yticklabels(labels)\n",
    "\n",
    "ax_heat.set_xlabel(\"Position relative to motif center\")\n",
    "ax_heat.set_ylabel(\"Position relative to motif center\")\n",
    "ax_heat.set_title(\"WC-pair co-occurrence (normalized)\")\n",
    "\n",
    "cbar = plt.colorbar(im, ax=ax_heat, shrink=0.8, pad=0.02)\n",
    "cbar.set_label(\"Normalized relative frequency of WC-pair co-occurrence\")\n",
    "cbar.set_ticks([0.5, 0.75, 1.0, 1.5, 2.0])\n",
    "cbar.set_ticklabels([\"0.5×\", \"0.75×\", \"neutral\", \"1.5×\", \"2×\"])\n",
    "\n",
    "plt.tight_layout()\n",
    "plt.show()"
   ]
  },
  {
   "cell_type": "code",
   "execution_count": null,
   "metadata": {},
   "outputs": [],
   "source": []
  }
 ],
 "metadata": {
  "colab": {
   "provenance": []
  },
  "kernelspec": {
   "display_name": "Python (bioinfo)",
   "language": "python",
   "name": "bioinfo"
  },
  "language_info": {
   "codemirror_mode": {
    "name": "ipython",
    "version": 3
   },
   "file_extension": ".py",
   "mimetype": "text/x-python",
   "name": "python",
   "nbconvert_exporter": "python",
   "pygments_lexer": "ipython3",
   "version": "3.11.12"
  }
 },
 "nbformat": 4,
 "nbformat_minor": 4
}
